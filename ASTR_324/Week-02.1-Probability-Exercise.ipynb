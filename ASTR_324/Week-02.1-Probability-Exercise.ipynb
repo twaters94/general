{
 "cells": [
  {
   "cell_type": "markdown",
   "metadata": {},
   "source": [
    "## The Bus Failure Example\n",
    "\n",
    "We will practice joint, marginal, and conditional probability.\n",
    "\n",
    "Imagine we have a dataset recording the number of failed buses in three U.S. metropolitan areas (Seattle, Chicago, and Miami)."
   ]
  },
  {
   "cell_type": "code",
   "execution_count": 1,
   "metadata": {},
   "outputs": [
    {
     "name": "stdout",
     "output_type": "stream",
     "text": [
      "Overwriting bus-failures.txt\n"
     ]
    }
   ],
   "source": [
    "%%writefile bus-failures.txt\n",
    "city\twinter\tspring\tsummer\tfall\n",
    "Seattle\t18\t9\t3\t8\n",
    "Chicago\t36\t13\t14\t5\n",
    "Miami\t3\t6\t11\t8"
   ]
  },
  {
   "cell_type": "code",
   "execution_count": 2,
   "metadata": {},
   "outputs": [
    {
     "data": {
      "text/html": [
       "<div>\n",
       "<style scoped>\n",
       "    .dataframe tbody tr th:only-of-type {\n",
       "        vertical-align: middle;\n",
       "    }\n",
       "\n",
       "    .dataframe tbody tr th {\n",
       "        vertical-align: top;\n",
       "    }\n",
       "\n",
       "    .dataframe thead th {\n",
       "        text-align: right;\n",
       "    }\n",
       "</style>\n",
       "<table border=\"1\" class=\"dataframe\">\n",
       "  <thead>\n",
       "    <tr style=\"text-align: right;\">\n",
       "      <th></th>\n",
       "      <th>winter</th>\n",
       "      <th>spring</th>\n",
       "      <th>summer</th>\n",
       "      <th>fall</th>\n",
       "    </tr>\n",
       "    <tr>\n",
       "      <th>city</th>\n",
       "      <th></th>\n",
       "      <th></th>\n",
       "      <th></th>\n",
       "      <th></th>\n",
       "    </tr>\n",
       "  </thead>\n",
       "  <tbody>\n",
       "    <tr>\n",
       "      <th>Seattle</th>\n",
       "      <td>18</td>\n",
       "      <td>9</td>\n",
       "      <td>3</td>\n",
       "      <td>8</td>\n",
       "    </tr>\n",
       "    <tr>\n",
       "      <th>Chicago</th>\n",
       "      <td>36</td>\n",
       "      <td>13</td>\n",
       "      <td>14</td>\n",
       "      <td>5</td>\n",
       "    </tr>\n",
       "    <tr>\n",
       "      <th>Miami</th>\n",
       "      <td>3</td>\n",
       "      <td>6</td>\n",
       "      <td>11</td>\n",
       "      <td>8</td>\n",
       "    </tr>\n",
       "  </tbody>\n",
       "</table>\n",
       "</div>"
      ],
      "text/plain": [
       "         winter  spring  summer  fall\n",
       "city                                 \n",
       "Seattle      18       9       3     8\n",
       "Chicago      36      13      14     5\n",
       "Miami         3       6      11     8"
      ]
     },
     "execution_count": 2,
     "metadata": {},
     "output_type": "execute_result"
    }
   ],
   "source": [
    "import pandas as pd\n",
    "df = pd.read_csv('bus-failures.txt', sep='\\t', index_col='city')\n",
    "df"
   ]
  },
  {
   "cell_type": "markdown",
   "metadata": {},
   "source": [
    "I.e., what the above table tells us is that there were 18 buses that failed in Seattle's winter last year, while 11 buses failed in the summer in Miami.\n",
    "\n",
    "And the total number of failed buses every year is:"
   ]
  },
  {
   "cell_type": "code",
   "execution_count": 3,
   "metadata": {},
   "outputs": [
    {
     "data": {
      "text/plain": [
       "134"
      ]
     },
     "execution_count": 3,
     "metadata": {},
     "output_type": "execute_result"
    }
   ],
   "source": [
    "Nfailures = df.sum().sum()\n",
    "Nfailures"
   ]
  },
  {
   "cell_type": "markdown",
   "metadata": {},
   "source": [
    "## Joint probability of a bus failiure\n",
    "\n",
    "Imagine you're the CEO of the (imaginary) \"National Bus Transportation Company Inc\" (\"NBTC Inc\") that operates the bus systems in these three cities.\n",
    "\n",
    "If a bus breaks down sometime next year in one of the three cities (you don't know when or where), compute the probability it will fail in any of the (season, city) pairs -- $p({\\rm season}, {\\rm city})$:"
   ]
  },
  {
   "cell_type": "code",
   "execution_count": null,
   "metadata": {},
   "outputs": [],
   "source": [
    "p = ... your code here ...\n",
    "p"
   ]
  },
  {
   "cell_type": "markdown",
   "metadata": {},
   "source": [
    "Note: in the above, we assume a bus has failed and are asking about the probability it failed in some specific (season, city) pair. We're not asking about how probable it is for a bus to fail int the first place (for that, we'd also need to know the total number of buses in these cities).\n",
    "\n",
    "Therefore, the probabilities across all (season, city) pairs must sum up to 1."
   ]
  },
  {
   "cell_type": "code",
   "execution_count": null,
   "metadata": {},
   "outputs": [],
   "source": [
    "p.sum().sum()"
   ]
  },
  {
   "cell_type": "markdown",
   "metadata": {},
   "source": [
    "(within numerical precision)."
   ]
  },
  {
   "cell_type": "markdown",
   "metadata": {},
   "source": [
    "How much more likely is it that the bus has failed in Chicago in winter than in Miami in the spring?"
   ]
  },
  {
   "cell_type": "code",
   "execution_count": null,
   "metadata": {},
   "outputs": [],
   "source": [
    "p.loc[\"Chicago\", \"winter\"] / p.loc[\"Miami\", \"spring\"]"
   ]
  },
  {
   "cell_type": "markdown",
   "metadata": {},
   "source": [
    "## Probability the bus failed in some particular season\n",
    "\n",
    "You're NBTC's Chief Mechanic, and would like to know when you'll need more or fewer mechancs to service the busses nation wide.\n",
    "\n",
    "If a bus fails next year, what is the probability it will fail in some particular season -- $p({\\rm season})$?"
   ]
  },
  {
   "cell_type": "code",
   "execution_count": null,
   "metadata": {},
   "outputs": [],
   "source": [
    "p_season = ... your code here ...\n",
    "p_season"
   ]
  },
  {
   "cell_type": "markdown",
   "metadata": {},
   "source": [
    "This is the marginal probability, with 'city' (the uninteresting variable, for this purpose) marginalized out."
   ]
  },
  {
   "cell_type": "markdown",
   "metadata": {},
   "source": [
    "Based on the above, when do you need more mechanics, in the summer or in winter? Care to speculate why?"
   ]
  },
  {
   "cell_type": "markdown",
   "metadata": {},
   "source": [
    "## Probability a bus will fail in any given city"
   ]
  },
  {
   "cell_type": "markdown",
   "metadata": {},
   "source": [
    "You also want to understand the failiures as a function of city, $p(city)$, to know where to send more spare parts.\n",
    "\n",
    "Compute the marginal distribution $p({\\rm city})$:"
   ]
  },
  {
   "cell_type": "code",
   "execution_count": null,
   "metadata": {},
   "outputs": [],
   "source": [
    "p_city = ... your code here ...\n",
    "p_city"
   ]
  },
  {
   "cell_type": "markdown",
   "metadata": {},
   "source": [
    "Note: you may care about [Panda's `DataFrame.sum` function](https://pandas.pydata.org/pandas-docs/stable/reference/api/pandas.DataFrame.sum.html) with `axis=1` argument."
   ]
  },
  {
   "cell_type": "markdown",
   "metadata": {},
   "source": [
    "Which city requires most maintenance?"
   ]
  },
  {
   "cell_type": "markdown",
   "metadata": {},
   "source": [
    "## Probability a bus will fail in Seattle, as a function of season"
   ]
  },
  {
   "cell_type": "markdown",
   "metadata": {},
   "source": [
    "Finally, imagine you're the Chief Regional Mechanic for Seattle. You're primarily interested in what will happen in Seattle next year as a function of season -- $p(season|city=Seattle)$.\n",
    "\n",
    "Compute this distribution, and assess when you'll expect to have the most work:"
   ]
  },
  {
   "cell_type": "code",
   "execution_count": null,
   "metadata": {},
   "outputs": [],
   "source": [
    "p_season_given_seattle = ... your code here ...\n",
    "p_season_given_seattle"
   ]
  },
  {
   "cell_type": "markdown",
   "metadata": {},
   "source": [
    "Note that if you did everything well, the probability of failiure should sum up to 1:"
   ]
  },
  {
   "cell_type": "code",
   "execution_count": 13,
   "metadata": {},
   "outputs": [
    {
     "data": {
      "text/plain": [
       "1.0"
      ]
     },
     "execution_count": 13,
     "metadata": {},
     "output_type": "execute_result"
    }
   ],
   "source": [
    "p_season_given_seattle.sum()"
   ]
  },
  {
   "cell_type": "markdown",
   "metadata": {},
   "source": [
    "## A final note: an unwritten condition"
   ]
  },
  {
   "cell_type": "markdown",
   "metadata": {},
   "source": [
    "Go back and look at how the joint probability we started with was defined: I said \"If a bus fails ... what is the probability it failed in a given season and city\". If you look at that formulation, it's clear it's really a *conditional probability* (clauses like \"If a bus fails...\", or \"Given X...\" are the usual givaways!).\n",
    "\n",
    "Therefore, a more accurate way to write it down would have been:\n",
    "\n",
    "$$p({\\rm season}, {\\rm city} \\,|\\, {\\rm bus\\, has\\, failed})$$\n",
    "\n",
    "and then carry the \"bus has failed\" tag throughout -- for example:\n",
    "\n",
    "$$p({\\rm season}, {\\rm city} \\,|\\, {\\rm city=Seattle,\\,\\rm bus\\, has\\, failed})$$\n",
    "\n",
    "This is arduous (lots of writing!). Typically, such conditions that are implied throughout a problem are omitted and not written explicitly. As long as all probabilities are subject to the same condition, the math stays the same."
   ]
  },
  {
   "cell_type": "markdown",
   "metadata": {},
   "source": [
    "This is very common: for example, any die-rolling example should technically say \"if the die is fair\", and \"if the roller doesn't cheat\", and plus any other conditions describing the experimental setup. We usually write those out in the introduction of the problem, and omit them from the notation."
   ]
  }
 ],
 "metadata": {
  "kernelspec": {
   "display_name": "Python 3",
   "language": "python",
   "name": "python3"
  },
  "language_info": {
   "codemirror_mode": {
    "name": "ipython",
    "version": 3
   },
   "file_extension": ".py",
   "mimetype": "text/x-python",
   "name": "python",
   "nbconvert_exporter": "python",
   "pygments_lexer": "ipython3",
   "version": "3.6.8"
  }
 },
 "nbformat": 4,
 "nbformat_minor": 2
}
