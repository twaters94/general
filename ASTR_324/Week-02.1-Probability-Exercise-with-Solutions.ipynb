{
 "cells": [
  {
   "cell_type": "markdown",
   "metadata": {},
   "source": [
    "## The Bus Failure Example\n",
    "\n",
    "We will practice joint, marginal, and conditional probability.\n",
    "\n",
    "Imagine we have a dataset recording the number of failed buses in three U.S. metropolitan areas (Seattle, Chicago, and Miami)."
   ]
  },
  {
   "cell_type": "code",
   "execution_count": 1,
   "metadata": {},
   "outputs": [
    {
     "name": "stdout",
     "output_type": "stream",
     "text": [
      "Overwriting bus-failures.txt\n"
     ]
    }
   ],
   "source": [
    "%%writefile bus-failures.txt\n",
    "city\twinter\tspring\tsummer\tfall\n",
    "Seattle\t18\t9\t3\t8\n",
    "Chicago\t36\t13\t14\t5\n",
    "Miami\t3\t6\t11\t8"
   ]
  },
  {
   "cell_type": "code",
   "execution_count": 2,
   "metadata": {},
   "outputs": [
    {
     "data": {
      "text/html": [
       "<div>\n",
       "<style scoped>\n",
       "    .dataframe tbody tr th:only-of-type {\n",
       "        vertical-align: middle;\n",
       "    }\n",
       "\n",
       "    .dataframe tbody tr th {\n",
       "        vertical-align: top;\n",
       "    }\n",
       "\n",
       "    .dataframe thead th {\n",
       "        text-align: right;\n",
       "    }\n",
       "</style>\n",
       "<table border=\"1\" class=\"dataframe\">\n",
       "  <thead>\n",
       "    <tr style=\"text-align: right;\">\n",
       "      <th></th>\n",
       "      <th>winter</th>\n",
       "      <th>spring</th>\n",
       "      <th>summer</th>\n",
       "      <th>fall</th>\n",
       "    </tr>\n",
       "    <tr>\n",
       "      <th>city</th>\n",
       "      <th></th>\n",
       "      <th></th>\n",
       "      <th></th>\n",
       "      <th></th>\n",
       "    </tr>\n",
       "  </thead>\n",
       "  <tbody>\n",
       "    <tr>\n",
       "      <th>Seattle</th>\n",
       "      <td>18</td>\n",
       "      <td>9</td>\n",
       "      <td>3</td>\n",
       "      <td>8</td>\n",
       "    </tr>\n",
       "    <tr>\n",
       "      <th>Chicago</th>\n",
       "      <td>36</td>\n",
       "      <td>13</td>\n",
       "      <td>14</td>\n",
       "      <td>5</td>\n",
       "    </tr>\n",
       "    <tr>\n",
       "      <th>Miami</th>\n",
       "      <td>3</td>\n",
       "      <td>6</td>\n",
       "      <td>11</td>\n",
       "      <td>8</td>\n",
       "    </tr>\n",
       "  </tbody>\n",
       "</table>\n",
       "</div>"
      ],
      "text/plain": [
       "         winter  spring  summer  fall\n",
       "city                                 \n",
       "Seattle      18       9       3     8\n",
       "Chicago      36      13      14     5\n",
       "Miami         3       6      11     8"
      ]
     },
     "execution_count": 2,
     "metadata": {},
     "output_type": "execute_result"
    }
   ],
   "source": [
    "import pandas as pd\n",
    "df = pd.read_csv('bus-failures.txt', sep='\\t', index_col='city')\n",
    "df"
   ]
  },
  {
   "cell_type": "markdown",
   "metadata": {},
   "source": [
    "I.e., what the above table tells us is that there were 18 buses that failed in Seattle's winter last year, while 11 buses failed in the summer in Miami.\n",
    "\n",
    "And the total number of failed buses every year is:"
   ]
  },
  {
   "cell_type": "code",
   "execution_count": 3,
   "metadata": {},
   "outputs": [
    {
     "data": {
      "text/plain": [
       "134"
      ]
     },
     "execution_count": 3,
     "metadata": {},
     "output_type": "execute_result"
    }
   ],
   "source": [
    "Nfailures = df.sum().sum()\n",
    "Nfailures"
   ]
  },
  {
   "cell_type": "markdown",
   "metadata": {},
   "source": [
    "## Joint probability of a bus failiure\n",
    "\n",
    "Imagine you're the CEO of the (imaginary) \"National Bus Transportation Company Inc\" (\"NBTC Inc\") that operates the bus systems in these three cities.\n",
    "\n",
    "If a bus breaks down sometime next year in one of the three cities (you don't know when or where), compute the probability it will fail in any of the (season, city) pairs -- $p({\\rm season}, {\\rm city})$:"
   ]
  },
  {
   "cell_type": "code",
   "execution_count": 4,
   "metadata": {},
   "outputs": [
    {
     "data": {
      "text/html": [
       "<div>\n",
       "<style scoped>\n",
       "    .dataframe tbody tr th:only-of-type {\n",
       "        vertical-align: middle;\n",
       "    }\n",
       "\n",
       "    .dataframe tbody tr th {\n",
       "        vertical-align: top;\n",
       "    }\n",
       "\n",
       "    .dataframe thead th {\n",
       "        text-align: right;\n",
       "    }\n",
       "</style>\n",
       "<table border=\"1\" class=\"dataframe\">\n",
       "  <thead>\n",
       "    <tr style=\"text-align: right;\">\n",
       "      <th></th>\n",
       "      <th>winter</th>\n",
       "      <th>spring</th>\n",
       "      <th>summer</th>\n",
       "      <th>fall</th>\n",
       "    </tr>\n",
       "    <tr>\n",
       "      <th>city</th>\n",
       "      <th></th>\n",
       "      <th></th>\n",
       "      <th></th>\n",
       "      <th></th>\n",
       "    </tr>\n",
       "  </thead>\n",
       "  <tbody>\n",
       "    <tr>\n",
       "      <th>Seattle</th>\n",
       "      <td>0.134328</td>\n",
       "      <td>0.067164</td>\n",
       "      <td>0.022388</td>\n",
       "      <td>0.059701</td>\n",
       "    </tr>\n",
       "    <tr>\n",
       "      <th>Chicago</th>\n",
       "      <td>0.268657</td>\n",
       "      <td>0.097015</td>\n",
       "      <td>0.104478</td>\n",
       "      <td>0.037313</td>\n",
       "    </tr>\n",
       "    <tr>\n",
       "      <th>Miami</th>\n",
       "      <td>0.022388</td>\n",
       "      <td>0.044776</td>\n",
       "      <td>0.082090</td>\n",
       "      <td>0.059701</td>\n",
       "    </tr>\n",
       "  </tbody>\n",
       "</table>\n",
       "</div>"
      ],
      "text/plain": [
       "           winter    spring    summer      fall\n",
       "city                                           \n",
       "Seattle  0.134328  0.067164  0.022388  0.059701\n",
       "Chicago  0.268657  0.097015  0.104478  0.037313\n",
       "Miami    0.022388  0.044776  0.082090  0.059701"
      ]
     },
     "execution_count": 4,
     "metadata": {},
     "output_type": "execute_result"
    }
   ],
   "source": [
    "p = df / Nfailures\n",
    "p"
   ]
  },
  {
   "cell_type": "markdown",
   "metadata": {},
   "source": [
    "Note: in the above, we assume a bus has failed and are asking about the probability it failed in some specific (season, city) pair. We're not asking about how probable it is for a bus to fail int the first place (for that, we'd also need to know the total number of buses in these cities).\n",
    "\n",
    "Therefore, the probabilities across all (season, city) pairs must sum up to 1."
   ]
  },
  {
   "cell_type": "code",
   "execution_count": 5,
   "metadata": {},
   "outputs": [
    {
     "data": {
      "text/plain": [
       "0.9999999999999999"
      ]
     },
     "execution_count": 5,
     "metadata": {},
     "output_type": "execute_result"
    }
   ],
   "source": [
    "p.sum().sum()"
   ]
  },
  {
   "cell_type": "markdown",
   "metadata": {},
   "source": [
    "(within numerical precision)."
   ]
  },
  {
   "cell_type": "markdown",
   "metadata": {},
   "source": [
    "How much more likely is it that the bus has failed in Chicago in winter than in Miami in the spring?"
   ]
  },
  {
   "cell_type": "code",
   "execution_count": 6,
   "metadata": {},
   "outputs": [
    {
     "data": {
      "text/plain": [
       "6.0"
      ]
     },
     "execution_count": 6,
     "metadata": {},
     "output_type": "execute_result"
    }
   ],
   "source": [
    "p.loc[\"Chicago\", \"winter\"] / p.loc[\"Miami\", \"spring\"]"
   ]
  },
  {
   "cell_type": "markdown",
   "metadata": {},
   "source": [
    "## Probability the bus failed in some particular season\n",
    "\n",
    "You're NBTC's Chief Mechanic, and would like to know when you'll need more or fewer mechancs to service the busses nation wide.\n",
    "\n",
    "If a bus fails next year, what is the probability it will fail in some particular season -- $p({\\rm season})$?"
   ]
  },
  {
   "cell_type": "code",
   "execution_count": 7,
   "metadata": {},
   "outputs": [
    {
     "data": {
      "text/plain": [
       "winter    0.425373\n",
       "spring    0.208955\n",
       "summer    0.208955\n",
       "fall      0.156716\n",
       "dtype: float64"
      ]
     },
     "execution_count": 7,
     "metadata": {},
     "output_type": "execute_result"
    }
   ],
   "source": [
    "p_season = p.sum()\n",
    "p_season"
   ]
  },
  {
   "cell_type": "markdown",
   "metadata": {},
   "source": [
    "This is the marginal probability, with 'city' (the uninteresting variable, for this purpose) marginalized out."
   ]
  },
  {
   "cell_type": "markdown",
   "metadata": {},
   "source": [
    "Based on the above, when do you need more mechanics, in the summer or in winter? Care to speculate why?"
   ]
  },
  {
   "cell_type": "markdown",
   "metadata": {},
   "source": [
    "## Probability a bus will fail in any given city"
   ]
  },
  {
   "cell_type": "markdown",
   "metadata": {},
   "source": [
    "You also want to understand the failiures as a function of city, $p(city)$, to know where to send more spare parts.\n",
    "\n",
    "Compute the marginal distribution $p({\\rm city})$:"
   ]
  },
  {
   "cell_type": "code",
   "execution_count": 8,
   "metadata": {},
   "outputs": [
    {
     "data": {
      "text/plain": [
       "city\n",
       "Seattle    0.283582\n",
       "Chicago    0.507463\n",
       "Miami      0.208955\n",
       "dtype: float64"
      ]
     },
     "execution_count": 8,
     "metadata": {},
     "output_type": "execute_result"
    }
   ],
   "source": [
    "p_city = p.sum(axis=1)\n",
    "p_city"
   ]
  },
  {
   "cell_type": "markdown",
   "metadata": {},
   "source": [
    "Which city requires most maintenance?"
   ]
  },
  {
   "cell_type": "markdown",
   "metadata": {},
   "source": [
    "## Probability a bus will fail in Seattle, as a function of season"
   ]
  },
  {
   "cell_type": "markdown",
   "metadata": {},
   "source": [
    "Finally, imagine you're the Chief Regional Mechanic for Seattle. You're primarily interested in what will happen in Seattle next year as a function of season -- $p(season|city=Seattle)$.\n",
    "\n",
    "Compute this distribution, and assess when you'll expect to have the most work:"
   ]
  },
  {
   "cell_type": "code",
   "execution_count": 15,
   "metadata": {
    "scrolled": true
   },
   "outputs": [
    {
     "data": {
      "text/plain": [
       "winter    0.473684\n",
       "spring    0.236842\n",
       "summer    0.078947\n",
       "fall      0.210526\n",
       "Name: Seattle, dtype: float64"
      ]
     },
     "execution_count": 15,
     "metadata": {},
     "output_type": "execute_result"
    }
   ],
   "source": [
    "p_season_given_seattle = p.loc[\"Seattle\"] / p_city.loc[\"Seattle\"]\n",
    "p_season_given_seattle"
   ]
  },
  {
   "cell_type": "markdown",
   "metadata": {},
   "source": [
    "Where does this come from? Remember the definition of conditional probability:\n",
    "\n",
    "$$ p(city, season) = p(season | city) * p(city) $$\n",
    "\n",
    "so therefore:\n",
    "\n",
    "$$ p(season | city) = \\frac{p(city, season)}{p(city)} $$\n",
    "\n",
    "and because I've asked you specifically about Seattle, this is:\n",
    "\n",
    "$$ p(season | city=Seattle) = \\frac{p(city=Seattle, season)}{p(city=Seattle)} $$\n",
    "\n",
    "which translates to the line above when spelled out with Pandas."
   ]
  },
  {
   "cell_type": "markdown",
   "metadata": {},
   "source": [
    "Note that if you did everything well, the probability of failiure should sum up to 1:"
   ]
  },
  {
   "cell_type": "code",
   "execution_count": 16,
   "metadata": {},
   "outputs": [
    {
     "data": {
      "text/plain": [
       "1.0"
      ]
     },
     "execution_count": 16,
     "metadata": {},
     "output_type": "execute_result"
    }
   ],
   "source": [
    "p_season_given_seattle.sum()"
   ]
  },
  {
   "cell_type": "markdown",
   "metadata": {},
   "source": [
    "## A final note: an unwritten condition"
   ]
  },
  {
   "cell_type": "markdown",
   "metadata": {},
   "source": [
    "Go back and look at how the joint probability we started with was defined: I said \"If a bus fails ... what is the probability it failed in a given season and city\". If you look at that formulation, it's clear it's really a *conditional probability* (clauses like \"If a bus fails...\", or \"Given X...\" are the usual givaways!).\n",
    "\n",
    "Therefore, a more accurate way to write it down would have been:\n",
    "\n",
    "$$p({\\rm season}, {\\rm city} \\,|\\, {\\rm bus\\, has\\, failed})$$\n",
    "\n",
    "and then carry the \"bus has failed\" tag throughout -- for example:\n",
    "\n",
    "$$p({\\rm season}, {\\rm city} \\,|\\, {\\rm city=Seattle,\\,\\rm bus\\, has\\, failed})$$\n",
    "\n",
    "This is arduous (lots of writing!). Typically, such conditions that are implied throughout a problem are omitted and not written explicitly. As long as all probabilities are subject to the same condition, the math stays the same."
   ]
  },
  {
   "cell_type": "markdown",
   "metadata": {},
   "source": [
    "This is very common: for example, any die-rolling example should technically say \"if the die is fair\", and \"if the roller doesn't cheat\", and plus any other conditions describing the experimental setup. We usually write those out in the introduction of the problem, and omit them from the notation."
   ]
  }
 ],
 "metadata": {
  "kernelspec": {
   "display_name": "Python 3",
   "language": "python",
   "name": "python3"
  },
  "language_info": {
   "codemirror_mode": {
    "name": "ipython",
    "version": 3
   },
   "file_extension": ".py",
   "mimetype": "text/x-python",
   "name": "python",
   "nbconvert_exporter": "python",
   "pygments_lexer": "ipython3",
   "version": "3.6.8"
  }
 },
 "nbformat": 4,
 "nbformat_minor": 2
}
