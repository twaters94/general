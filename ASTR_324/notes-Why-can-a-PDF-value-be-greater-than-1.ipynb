{
 "cells": [
  {
   "cell_type": "markdown",
   "metadata": {},
   "source": [
    "## Why can PDF values be greater than 1?"
   ]
  },
  {
   "cell_type": "markdown",
   "metadata": {},
   "source": [
    "This is a common source of confusion, so here's a short explanation and a demonstration:"
   ]
  },
  {
   "cell_type": "markdown",
   "metadata": {},
   "source": [
    "The basic answer is that they can be greater than 1 because when x is a continous variable, $p(x)$ doesn't give us the \"probability of obtaining x\", it gives us the probability **density** of obtaining x.\n",
    "\n",
    "What is the difference? Since $x$ is a real number the probabilty of getting _exactly_ some value of $x$ (say, 1.32243324323423) is infinitely small (as there are infinitely many real numbers). That is why the question \"what is the probability of obtaining x\" isn't very well defined or meaningful.\n",
    "\n",
    "What is meaningful is to ask \"what is the probability that I'll draw a number in some interval, say $x_0$ to $x_1$?\". And this is where our PDF comes in and gives the answer -- the probability of obtaining a value between $x_0$ to $x_1$ is the integral of the probability density over that interval:\n",
    "\n",
    "$$ \\int_{x_0}^{x_1} p(x) dx $$\n",
    "\n",
    "and it is this value that is always $\\le 1$."
   ]
  },
  {
   "cell_type": "markdown",
   "metadata": {},
   "source": [
    "When can $p(x)$ on its own be greater than 1?\n",
    "\n",
    "When the interval in $x$ over which it's greater than 1 is relatively short (so the \"area under the curve\" that the above integral describes ends up being less than 1).\n",
    "\n",
    "Here's an example of a very narrow Gaussian which peaks around ~8. But note that the peak is over a very short interval, so the area under the curve (which is the probability) is always lower than 1."
   ]
  },
  {
   "cell_type": "code",
   "execution_count": 8,
   "metadata": {},
   "outputs": [
    {
     "data": {
      "text/plain": [
       "[<matplotlib.lines.Line2D at 0x1162aef98>]"
      ]
     },
     "execution_count": 8,
     "metadata": {},
     "output_type": "execute_result"
    },
    {
     "data": {
      "image/png": "[encoded data removed]",
      "text/plain": [
       "<matplotlib.figure.Figure at 0x1161b79b0>"
      ]
     },
     "metadata": {},
     "output_type": "display_data"
    }
   ],
   "source": [
    "%matplotlib inline\n",
    "import matplotlib.pyplot as plt\n",
    "import numpy as np\n",
    "from scipy.stats import norm\n",
    "\n",
    "x = np.arange(0.5, 1.5, 0.01)\n",
    "p = norm(1, 0.05).pdf\n",
    "plt.plot(x, p(x))"
   ]
  },
  {
   "cell_type": "markdown",
   "metadata": {},
   "source": [
    "Let's demonstrate this by calculating the probability of obtaining a number between 0.9 and 1.1. That's just the integral of p(x) from 0.9 to 1.1. I'll evaluate it numerically by approximating it with a [Riemann sum](https://en.wikipedia.org/wiki/Riemann_sum):"
   ]
  },
  {
   "cell_type": "code",
   "execution_count": 11,
   "metadata": {},
   "outputs": [
    {
     "data": {
      "text/plain": [
       "0.9555723566863658"
      ]
     },
     "execution_count": 11,
     "metadata": {},
     "output_type": "execute_result"
    }
   ],
   "source": [
    "dx = 0.001\n",
    "x = np.arange(0.9, 1.1, dx)\n",
    "np.sum(p(x)*dx)"
   ]
  },
  {
   "cell_type": "markdown",
   "metadata": {},
   "source": [
    "As promised, the probability is less than 1."
   ]
  },
  {
   "cell_type": "markdown",
   "metadata": {},
   "source": [
    "A faster and more accurate way to compute this is using the [cumulative distribution function](https://en.wikipedia.org/wiki/Cumulative_distribution_function), the CDF:"
   ]
  },
  {
   "cell_type": "code",
   "execution_count": 12,
   "metadata": {},
   "outputs": [
    {
     "data": {
      "text/plain": [
       "0.9544997361036417"
      ]
     },
     "execution_count": 12,
     "metadata": {},
     "output_type": "execute_result"
    }
   ],
   "source": [
    "c = norm(1, 0.05).cdf\n",
    "c(1.1) - c(0.9)"
   ]
  },
  {
   "cell_type": "markdown",
   "metadata": {},
   "source": [
    "and also see the lecture notes for more details on the CDF."
   ]
  },
  {
   "cell_type": "markdown",
   "metadata": {},
   "source": [
    "Bottom line: why can the PDF $p(x)$ be greater than 1? Because it's not probability -- it's *probability density*. The probability is given by the area under your PDF which is always $\\le 1$."
   ]
  }
 ],
 "metadata": {
  "kernelspec": {
   "display_name": "Python 3",
   "language": "python",
   "name": "python3"
  },
  "language_info": {
   "codemirror_mode": {
    "name": "ipython",
    "version": 3
   },
   "file_extension": ".py",
   "mimetype": "text/x-python",
   "name": "python",
   "nbconvert_exporter": "python",
   "pygments_lexer": "ipython3",
   "version": "3.6.8"
  }
 },
 "nbformat": 4,
 "nbformat_minor": 2
}
