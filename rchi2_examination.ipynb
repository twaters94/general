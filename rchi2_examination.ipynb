{
 "cells": [
  {
   "cell_type": "markdown",
   "metadata": {},
   "source": [
    "### Making Reduced ${\\chi}^2$ Histograms"
   ]
  },
  {
   "cell_type": "code",
   "execution_count": 2,
   "metadata": {},
   "outputs": [],
   "source": [
    "import numpy as np\n",
    "import matplotlib.pyplot as plt"
   ]
  },
  {
   "cell_type": "code",
   "execution_count": 8,
   "metadata": {},
   "outputs": [],
   "source": [
    "# Making a list of file paths to your input_group_*_rchi2.txt files.\n",
    "# Change to your individual path!\n",
    "\n",
    "fileList = []\n",
    "for i in range(91): # change 91 to how many input_group.txt files you have.\n",
    "    fileList.append(f'/Users/tw94/UW/Werk_SQuAD/veeper/component_groups/input_group_{i}_rchi2.txt')\n",
    "    "
   ]
  },
  {
   "cell_type": "code",
   "execution_count": 9,
   "metadata": {},
   "outputs": [],
   "source": [
    "# Deleting any indices for input groups that failed and do no have an associated input_group_*_rchi2.txt file.\n",
    "\n",
    "del fileList[11:13]"
   ]
  },
  {
   "cell_type": "code",
   "execution_count": 10,
   "metadata": {},
   "outputs": [],
   "source": [
    "del fileList[33:34]"
   ]
  },
  {
   "cell_type": "code",
   "execution_count": 11,
   "metadata": {},
   "outputs": [
    {
     "data": {
      "text/plain": [
       "['/Users/tw94/UW/Werk_SQuAD/veeper/component_groups/input_group_0_rchi2.txt',\n",
       " '/Users/tw94/UW/Werk_SQuAD/veeper/component_groups/input_group_1_rchi2.txt',\n",
       " '/Users/tw94/UW/Werk_SQuAD/veeper/component_groups/input_group_2_rchi2.txt',\n",
       " '/Users/tw94/UW/Werk_SQuAD/veeper/component_groups/input_group_3_rchi2.txt',\n",
       " '/Users/tw94/UW/Werk_SQuAD/veeper/component_groups/input_group_4_rchi2.txt',\n",
       " '/Users/tw94/UW/Werk_SQuAD/veeper/component_groups/input_group_5_rchi2.txt',\n",
       " '/Users/tw94/UW/Werk_SQuAD/veeper/component_groups/input_group_6_rchi2.txt',\n",
       " '/Users/tw94/UW/Werk_SQuAD/veeper/component_groups/input_group_7_rchi2.txt',\n",
       " '/Users/tw94/UW/Werk_SQuAD/veeper/component_groups/input_group_8_rchi2.txt',\n",
       " '/Users/tw94/UW/Werk_SQuAD/veeper/component_groups/input_group_9_rchi2.txt',\n",
       " '/Users/tw94/UW/Werk_SQuAD/veeper/component_groups/input_group_10_rchi2.txt',\n",
       " '/Users/tw94/UW/Werk_SQuAD/veeper/component_groups/input_group_13_rchi2.txt',\n",
       " '/Users/tw94/UW/Werk_SQuAD/veeper/component_groups/input_group_14_rchi2.txt',\n",
       " '/Users/tw94/UW/Werk_SQuAD/veeper/component_groups/input_group_15_rchi2.txt',\n",
       " '/Users/tw94/UW/Werk_SQuAD/veeper/component_groups/input_group_16_rchi2.txt',\n",
       " '/Users/tw94/UW/Werk_SQuAD/veeper/component_groups/input_group_17_rchi2.txt',\n",
       " '/Users/tw94/UW/Werk_SQuAD/veeper/component_groups/input_group_18_rchi2.txt',\n",
       " '/Users/tw94/UW/Werk_SQuAD/veeper/component_groups/input_group_19_rchi2.txt',\n",
       " '/Users/tw94/UW/Werk_SQuAD/veeper/component_groups/input_group_20_rchi2.txt',\n",
       " '/Users/tw94/UW/Werk_SQuAD/veeper/component_groups/input_group_21_rchi2.txt',\n",
       " '/Users/tw94/UW/Werk_SQuAD/veeper/component_groups/input_group_22_rchi2.txt',\n",
       " '/Users/tw94/UW/Werk_SQuAD/veeper/component_groups/input_group_23_rchi2.txt',\n",
       " '/Users/tw94/UW/Werk_SQuAD/veeper/component_groups/input_group_24_rchi2.txt',\n",
       " '/Users/tw94/UW/Werk_SQuAD/veeper/component_groups/input_group_25_rchi2.txt',\n",
       " '/Users/tw94/UW/Werk_SQuAD/veeper/component_groups/input_group_26_rchi2.txt',\n",
       " '/Users/tw94/UW/Werk_SQuAD/veeper/component_groups/input_group_27_rchi2.txt',\n",
       " '/Users/tw94/UW/Werk_SQuAD/veeper/component_groups/input_group_28_rchi2.txt',\n",
       " '/Users/tw94/UW/Werk_SQuAD/veeper/component_groups/input_group_29_rchi2.txt',\n",
       " '/Users/tw94/UW/Werk_SQuAD/veeper/component_groups/input_group_30_rchi2.txt',\n",
       " '/Users/tw94/UW/Werk_SQuAD/veeper/component_groups/input_group_31_rchi2.txt',\n",
       " '/Users/tw94/UW/Werk_SQuAD/veeper/component_groups/input_group_32_rchi2.txt',\n",
       " '/Users/tw94/UW/Werk_SQuAD/veeper/component_groups/input_group_33_rchi2.txt',\n",
       " '/Users/tw94/UW/Werk_SQuAD/veeper/component_groups/input_group_34_rchi2.txt',\n",
       " '/Users/tw94/UW/Werk_SQuAD/veeper/component_groups/input_group_36_rchi2.txt',\n",
       " '/Users/tw94/UW/Werk_SQuAD/veeper/component_groups/input_group_37_rchi2.txt',\n",
       " '/Users/tw94/UW/Werk_SQuAD/veeper/component_groups/input_group_38_rchi2.txt',\n",
       " '/Users/tw94/UW/Werk_SQuAD/veeper/component_groups/input_group_39_rchi2.txt',\n",
       " '/Users/tw94/UW/Werk_SQuAD/veeper/component_groups/input_group_40_rchi2.txt',\n",
       " '/Users/tw94/UW/Werk_SQuAD/veeper/component_groups/input_group_41_rchi2.txt',\n",
       " '/Users/tw94/UW/Werk_SQuAD/veeper/component_groups/input_group_42_rchi2.txt',\n",
       " '/Users/tw94/UW/Werk_SQuAD/veeper/component_groups/input_group_43_rchi2.txt',\n",
       " '/Users/tw94/UW/Werk_SQuAD/veeper/component_groups/input_group_44_rchi2.txt',\n",
       " '/Users/tw94/UW/Werk_SQuAD/veeper/component_groups/input_group_45_rchi2.txt',\n",
       " '/Users/tw94/UW/Werk_SQuAD/veeper/component_groups/input_group_46_rchi2.txt',\n",
       " '/Users/tw94/UW/Werk_SQuAD/veeper/component_groups/input_group_47_rchi2.txt',\n",
       " '/Users/tw94/UW/Werk_SQuAD/veeper/component_groups/input_group_48_rchi2.txt',\n",
       " '/Users/tw94/UW/Werk_SQuAD/veeper/component_groups/input_group_49_rchi2.txt',\n",
       " '/Users/tw94/UW/Werk_SQuAD/veeper/component_groups/input_group_50_rchi2.txt',\n",
       " '/Users/tw94/UW/Werk_SQuAD/veeper/component_groups/input_group_51_rchi2.txt',\n",
       " '/Users/tw94/UW/Werk_SQuAD/veeper/component_groups/input_group_52_rchi2.txt',\n",
       " '/Users/tw94/UW/Werk_SQuAD/veeper/component_groups/input_group_53_rchi2.txt',\n",
       " '/Users/tw94/UW/Werk_SQuAD/veeper/component_groups/input_group_54_rchi2.txt',\n",
       " '/Users/tw94/UW/Werk_SQuAD/veeper/component_groups/input_group_55_rchi2.txt',\n",
       " '/Users/tw94/UW/Werk_SQuAD/veeper/component_groups/input_group_56_rchi2.txt',\n",
       " '/Users/tw94/UW/Werk_SQuAD/veeper/component_groups/input_group_57_rchi2.txt',\n",
       " '/Users/tw94/UW/Werk_SQuAD/veeper/component_groups/input_group_58_rchi2.txt',\n",
       " '/Users/tw94/UW/Werk_SQuAD/veeper/component_groups/input_group_59_rchi2.txt',\n",
       " '/Users/tw94/UW/Werk_SQuAD/veeper/component_groups/input_group_60_rchi2.txt',\n",
       " '/Users/tw94/UW/Werk_SQuAD/veeper/component_groups/input_group_61_rchi2.txt',\n",
       " '/Users/tw94/UW/Werk_SQuAD/veeper/component_groups/input_group_62_rchi2.txt',\n",
       " '/Users/tw94/UW/Werk_SQuAD/veeper/component_groups/input_group_63_rchi2.txt',\n",
       " '/Users/tw94/UW/Werk_SQuAD/veeper/component_groups/input_group_64_rchi2.txt',\n",
       " '/Users/tw94/UW/Werk_SQuAD/veeper/component_groups/input_group_65_rchi2.txt',\n",
       " '/Users/tw94/UW/Werk_SQuAD/veeper/component_groups/input_group_66_rchi2.txt',\n",
       " '/Users/tw94/UW/Werk_SQuAD/veeper/component_groups/input_group_67_rchi2.txt',\n",
       " '/Users/tw94/UW/Werk_SQuAD/veeper/component_groups/input_group_68_rchi2.txt',\n",
       " '/Users/tw94/UW/Werk_SQuAD/veeper/component_groups/input_group_69_rchi2.txt',\n",
       " '/Users/tw94/UW/Werk_SQuAD/veeper/component_groups/input_group_70_rchi2.txt',\n",
       " '/Users/tw94/UW/Werk_SQuAD/veeper/component_groups/input_group_71_rchi2.txt',\n",
       " '/Users/tw94/UW/Werk_SQuAD/veeper/component_groups/input_group_72_rchi2.txt',\n",
       " '/Users/tw94/UW/Werk_SQuAD/veeper/component_groups/input_group_73_rchi2.txt',\n",
       " '/Users/tw94/UW/Werk_SQuAD/veeper/component_groups/input_group_74_rchi2.txt',\n",
       " '/Users/tw94/UW/Werk_SQuAD/veeper/component_groups/input_group_75_rchi2.txt',\n",
       " '/Users/tw94/UW/Werk_SQuAD/veeper/component_groups/input_group_76_rchi2.txt',\n",
       " '/Users/tw94/UW/Werk_SQuAD/veeper/component_groups/input_group_77_rchi2.txt',\n",
       " '/Users/tw94/UW/Werk_SQuAD/veeper/component_groups/input_group_78_rchi2.txt',\n",
       " '/Users/tw94/UW/Werk_SQuAD/veeper/component_groups/input_group_79_rchi2.txt',\n",
       " '/Users/tw94/UW/Werk_SQuAD/veeper/component_groups/input_group_80_rchi2.txt',\n",
       " '/Users/tw94/UW/Werk_SQuAD/veeper/component_groups/input_group_81_rchi2.txt',\n",
       " '/Users/tw94/UW/Werk_SQuAD/veeper/component_groups/input_group_82_rchi2.txt',\n",
       " '/Users/tw94/UW/Werk_SQuAD/veeper/component_groups/input_group_83_rchi2.txt',\n",
       " '/Users/tw94/UW/Werk_SQuAD/veeper/component_groups/input_group_84_rchi2.txt',\n",
       " '/Users/tw94/UW/Werk_SQuAD/veeper/component_groups/input_group_85_rchi2.txt',\n",
       " '/Users/tw94/UW/Werk_SQuAD/veeper/component_groups/input_group_86_rchi2.txt',\n",
       " '/Users/tw94/UW/Werk_SQuAD/veeper/component_groups/input_group_87_rchi2.txt',\n",
       " '/Users/tw94/UW/Werk_SQuAD/veeper/component_groups/input_group_88_rchi2.txt',\n",
       " '/Users/tw94/UW/Werk_SQuAD/veeper/component_groups/input_group_89_rchi2.txt',\n",
       " '/Users/tw94/UW/Werk_SQuAD/veeper/component_groups/input_group_90_rchi2.txt']"
      ]
     },
     "execution_count": 11,
     "metadata": {},
     "output_type": "execute_result"
    }
   ],
   "source": [
    "# Print the file list so you can make sure you didn't mess up the deletion.\n",
    "fileList"
   ]
  },
  {
   "cell_type": "code",
   "execution_count": 12,
   "metadata": {},
   "outputs": [],
   "source": [
    "# Opens the input_group_*_rchi2.txt files, pulls out the rchi^2 values, and adds them to a list.\n",
    "\n",
    "rchi2 = []\n",
    "\n",
    "for i in fileList:\n",
    "    file = open(i, 'r')\n",
    "    content = file.readlines()\n",
    "    content = [float(i) for i in content]\n",
    "    rchi2.append(content)"
   ]
  },
  {
   "cell_type": "code",
   "execution_count": 13,
   "metadata": {},
   "outputs": [],
   "source": [
    "#Makes that list a Numpy array\n",
    "rchi2 = np.array(rchi2) "
   ]
  },
  {
   "cell_type": "code",
   "execution_count": 15,
   "metadata": {},
   "outputs": [],
   "source": [
    "# Changes the dimensions of the Numpy array so we can use it to compute the following values and plot results.\n",
    "rchi2 = np.reshape(rchi2, len(rchi2),)"
   ]
  },
  {
   "cell_type": "code",
   "execution_count": 16,
   "metadata": {},
   "outputs": [],
   "source": [
    "# Calculate the mean, median, standard deviation, and max and min values.\n",
    "mean, median, std, Min, Max = np.mean(rchi2), np.median(rchi2), np.std(rchi2), np.min(rchi2), np.max(rchi2)"
   ]
  },
  {
   "cell_type": "code",
   "execution_count": 17,
   "metadata": {},
   "outputs": [
    {
     "data": {
      "image/png": "[encoded data removed]",
      "text/plain": [
       "<Figure size 720x720 with 1 Axes>"
      ]
     },
     "metadata": {
      "needs_background": "light"
     },
     "output_type": "display_data"
    }
   ],
   "source": [
    "# Generate figure\n",
    "plt.figure(figsize = (10,10))\n",
    "\n",
    "#Plot histogram\n",
    "plt.hist(rchi2, bins = 30)\n",
    "\n",
    "# Axes labels and title\n",
    "plt.title('J1016+4706', fontsize = 20)\n",
    "plt.xlabel(f'Reduced \\u03C7$^2$', fontsize = 16)\n",
    "plt.ylabel('Counts', fontsize = 16)\n",
    "\n",
    "# Annotates the values on the graph\n",
    "plt.text(4, 9, f'Mean: {mean}', fontsize = 12)\n",
    "plt.text(4, 8, f'Median: {median}', fontsize = 12)\n",
    "plt.text(4, 7, f'Standard Deviation: {std}', fontsize = 12)\n",
    "plt.text(4, 6, f'Minimum Value: {Min}', fontsize = 12)\n",
    "plt.text(4, 5, f'Maximum Value: {Max}', fontsize = 12);"
   ]
  }
 ],
 "metadata": {
  "kernelspec": {
   "display_name": "Python 3",
   "language": "python",
   "name": "python3"
  },
  "language_info": {
   "codemirror_mode": {
    "name": "ipython",
    "version": 3
   },
   "file_extension": ".py",
   "mimetype": "text/x-python",
   "name": "python",
   "nbconvert_exporter": "python",
   "pygments_lexer": "ipython3",
   "version": "3.7.9"
  }
 },
 "nbformat": 4,
 "nbformat_minor": 4
}
