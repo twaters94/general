{
 "cells": [
  {
   "cell_type": "markdown",
   "metadata": {},
   "source": [
    "# Planning observations with `astroplan`"
   ]
  },
  {
   "cell_type": "code",
   "execution_count": 1,
   "metadata": {
    "collapsed": false,
    "jupyter": {
     "outputs_hidden": false
    }
   },
   "outputs": [],
   "source": [
    "%matplotlib inline\n",
    "\n",
    "import matplotlib.pyplot as plt\n",
    "\n",
    "import numpy as np\n",
    "import astropy.units as u\n",
    "from astropy.time import Time\n",
    "import pytz\n",
    "\n",
    "from astroplan.plots import plot_airmass\n",
    "from astroplan import Observer, FixedTarget, time_grid_from_range"
   ]
  },
  {
   "cell_type": "markdown",
   "metadata": {},
   "source": [
    "---\n",
    "\n",
    "# Time and Dates\n",
    "- ### All dates and times in are UTC: *Coordinated Universal Time*\n",
    "- All `Time` calculation assume that the time is UTC.\n",
    "- UTC is related to  Greenwich Mean Time (GMT) but does not change with a change of seasons.\n",
    "- Time will default to 00:00:00 UTC."
   ]
  },
  {
   "cell_type": "code",
   "execution_count": 2,
   "metadata": {
    "collapsed": false,
    "jupyter": {
     "outputs_hidden": false
    }
   },
   "outputs": [
    {
     "data": {
      "text/plain": [
       "<Time object: scale='utc' format='iso' value=2020-02-19 00:00:00.000>"
      ]
     },
     "execution_count": 2,
     "metadata": {},
     "output_type": "execute_result"
    }
   ],
   "source": [
    "my_date = Time(\"2020-02-19\")\n",
    "\n",
    "my_date"
   ]
  },
  {
   "cell_type": "code",
   "execution_count": 3,
   "metadata": {
    "collapsed": false,
    "jupyter": {
     "outputs_hidden": false
    }
   },
   "outputs": [
    {
     "data": {
      "text/plain": [
       "'2020-02-19 00:00:00.000'"
      ]
     },
     "execution_count": 3,
     "metadata": {},
     "output_type": "execute_result"
    }
   ],
   "source": [
    "my_date.iso"
   ]
  },
  {
   "cell_type": "code",
   "execution_count": 4,
   "metadata": {
    "collapsed": false,
    "jupyter": {
     "outputs_hidden": false
    }
   },
   "outputs": [
    {
     "data": {
      "text/plain": [
       "'The value of my_date is 2020-02-19 00:00:00.000'"
      ]
     },
     "execution_count": 4,
     "metadata": {},
     "output_type": "execute_result"
    }
   ],
   "source": [
    "f\"The value of my_date is {my_date.iso}\""
   ]
  },
  {
   "cell_type": "markdown",
   "metadata": {},
   "source": [
    "### Different Date Formats"
   ]
  },
  {
   "cell_type": "code",
   "execution_count": 5,
   "metadata": {
    "collapsed": false,
    "jupyter": {
     "outputs_hidden": false
    }
   },
   "outputs": [
    {
     "name": "stdout",
     "output_type": "stream",
     "text": [
      "The Julian Date is 2458898.50\n",
      "The Modified Julian Date is 58898.00\n",
      "The unix Epoch is 1582070400.00\n",
      "The fraction of a year is 2020.13\n"
     ]
    }
   ],
   "source": [
    "print(f\"The Julian Date is {my_date.jd:.2f}\")\n",
    "\n",
    "print(f\"The Modified Julian Date is {my_date.mjd:.2f}\")\n",
    "\n",
    "print(f\"The unix Epoch is {my_date.unix:.2f}\")  # Seconds since (Jan 01, 1970 00:00:00 UTC)\n",
    "\n",
    "print(f\"The fraction of a year is {my_date.decimalyear:.2f}\")"
   ]
  },
  {
   "cell_type": "markdown",
   "metadata": {},
   "source": [
    "---\n",
    "\n",
    "### [Accurate Time](http://bmmorris.blogspot.com/2015/06/ut1-utc-and-astropy.html) - `UT1`\n",
    "\n",
    "* `AstroPy` calculates the times of events to a very high accuracy.\n",
    "* Earth's rotation period is constantly changing due to tidal forces and changes in the Earth's moment of inertia.\n",
    "* `AstroPy` uses a time convention called `UT1`.\n",
    "* `UT1` is constanly changing with repect to `UTC`.\n",
    "* This system is tied to the rotation of the Earth with repect to the positions of distant quasars.\n",
    "\n",
    "The orientation of the Earth, which must be measured continuously to keep `UT1` accurate. This measurement is logged by the International Earth Rotation and Reference Systems Service (IERS). They publish a \"bulletin\" with the most recent measurements of the Earth's orientation. This bulletin is constantly being updated.\n",
    "\n",
    "You will run into occasions when you will get a warning that your dates are out of range of the IERS bulletin. To update the bulletin, run the follow block of code:\n",
    "\n",
    "---"
   ]
  },
  {
   "cell_type": "code",
   "execution_count": 6,
   "metadata": {
    "collapsed": false,
    "jupyter": {
     "outputs_hidden": false
    }
   },
   "outputs": [],
   "source": [
    "#import warnings\n",
    "#warnings.filterwarnings('ignore', category=Warning)\n",
    "\n",
    "from astroplan import download_IERS_A\n",
    "download_IERS_A()\n",
    "\n",
    "#from astroplan import get_IERS_A_or_workaround\n",
    "#get_IERS_A_or_workaround()"
   ]
  },
  {
   "cell_type": "markdown",
   "metadata": {},
   "source": [
    "---\n",
    "\n",
    "# Places\n",
    "\n",
    "## Setting your location - `Observer`\n",
    "\n",
    "* `longitude` and `latitude` - any angular unit\n",
    "* `timezone` - see below\n",
    "* `name` - any string"
   ]
  },
  {
   "cell_type": "code",
   "execution_count": 7,
   "metadata": {
    "collapsed": false,
    "jupyter": {
     "outputs_hidden": false
    }
   },
   "outputs": [],
   "source": [
    "this_room = Observer(longitude = -122.311473 * u.deg,\n",
    "                    latitude = 47 * u.deg + 39 * u.arcmin + 15 * u.arcsec,\n",
    "                    timezone = 'US/Pacific',\n",
    "                    name = \"Computer Lab\"\n",
    "                    )"
   ]
  },
  {
   "cell_type": "code",
   "execution_count": 8,
   "metadata": {
    "collapsed": false,
    "jupyter": {
     "outputs_hidden": false
    }
   },
   "outputs": [
    {
     "data": {
      "text/plain": [
       "<Observer: name='Computer Lab',\n",
       "    location (lon, lat, el)=(-122.31147299999999 deg, 47.654166666666676 deg, 7.094738651737616e-10 m),\n",
       "    timezone=<DstTzInfo 'US/Pacific' LMT-1 day, 16:07:00 STD>>"
      ]
     },
     "execution_count": 8,
     "metadata": {},
     "output_type": "execute_result"
    }
   ],
   "source": [
    "this_room"
   ]
  },
  {
   "cell_type": "code",
   "execution_count": 9,
   "metadata": {
    "collapsed": false,
    "jupyter": {
     "outputs_hidden": false
    }
   },
   "outputs": [
    {
     "data": {
      "text/plain": [
       "'Computer Lab'"
      ]
     },
     "execution_count": 9,
     "metadata": {},
     "output_type": "execute_result"
    }
   ],
   "source": [
    "this_room.name"
   ]
  },
  {
   "cell_type": "markdown",
   "metadata": {},
   "source": [
    "---\n",
    "### Working with timezones (local time)\n",
    "\n",
    "* [Timezone List](https://en.wikipedia.org/wiki/List_of_tz_database_time_zones)\n",
    "* Use the name in the **TZ database name** column.\n",
    "* Only use timezone conversions for printouts, NEVER calculations!\n",
    "* If you cannot find the exact timezone but know the offset from GMT use: `Etc/GMT(+/-)OFFSET` - (Example: `Etc/GMT-8`)\n",
    "* Working with tomezones is a [quick path to maddness!](https://xkcd.com/1883/)"
   ]
  },
  {
   "cell_type": "code",
   "execution_count": 10,
   "metadata": {
    "collapsed": false,
    "jupyter": {
     "outputs_hidden": false
    }
   },
   "outputs": [
    {
     "data": {
      "text/plain": [
       "<DstTzInfo 'US/Pacific' LMT-1 day, 16:07:00 STD>"
      ]
     },
     "execution_count": 10,
     "metadata": {},
     "output_type": "execute_result"
    }
   ],
   "source": [
    "this_room.timezone"
   ]
  },
  {
   "cell_type": "code",
   "execution_count": 15,
   "metadata": {
    "collapsed": false,
    "jupyter": {
     "outputs_hidden": false
    }
   },
   "outputs": [
    {
     "name": "stdout",
     "output_type": "stream",
     "text": [
      "2020-02-18 16:00:00-08:00\n"
     ]
    }
   ],
   "source": [
    "local_now = my_date.to_datetime(this_room.timezone)\n",
    "\n",
    "print(local_now)"
   ]
  },
  {
   "cell_type": "markdown",
   "metadata": {},
   "source": [
    "---\n",
    "## Information at your location"
   ]
  },
  {
   "cell_type": "markdown",
   "metadata": {},
   "source": [
    "### `noon` - output: UTC datetime of noon at your location\n",
    "\n",
    "* `LOCATION.noon(DATE, WHICH)`\n",
    "* `DATE` : Time of observation\n",
    "* `WHICH`: Choose which noon relative to the present `DATE` would you like to calculate:\n",
    "  * next\n",
    "  * previous\n",
    "  * nearest"
   ]
  },
  {
   "cell_type": "code",
   "execution_count": 20,
   "metadata": {
    "collapsed": false,
    "jupyter": {
     "outputs_hidden": false
    }
   },
   "outputs": [],
   "source": [
    "my_noon = this_room.noon(my_date, which = \"next\")"
   ]
  },
  {
   "cell_type": "code",
   "execution_count": 19,
   "metadata": {
    "collapsed": false,
    "jupyter": {
     "outputs_hidden": false
    }
   },
   "outputs": [
    {
     "data": {
      "text/plain": [
       "<Time object: scale='utc' format='jd' value=2458898.349623536>"
      ]
     },
     "execution_count": 19,
     "metadata": {},
     "output_type": "execute_result"
    }
   ],
   "source": [
    "my_noon"
   ]
  },
  {
   "cell_type": "code",
   "execution_count": 14,
   "metadata": {
    "collapsed": false,
    "jupyter": {
     "outputs_hidden": false
    }
   },
   "outputs": [
    {
     "name": "stdout",
     "output_type": "stream",
     "text": [
      "2020-02-19 12:23:22.348593-08:00\n"
     ]
    }
   ],
   "source": [
    "print(my_noon.to_datetime(this_room.timezone))"
   ]
  },
  {
   "cell_type": "markdown",
   "metadata": {},
   "source": [
    "### `tonight` - output `[UTC datetime sunset, UTC datetime sunrise]`\n",
    "\n",
    "* `LOCATION.tonight(TIME, HORIZON)`\n",
    "  * The `TIME` has to be before local sunset!\n",
    "  * `HORIZON`: Sun position above/below horizon to use for calculating set/rise time"
   ]
  },
  {
   "cell_type": "code",
   "execution_count": 21,
   "metadata": {
    "collapsed": false,
    "jupyter": {
     "outputs_hidden": false
    }
   },
   "outputs": [],
   "source": [
    "tonight_here = this_room.tonight(my_noon, horizon = 0 * u.deg)"
   ]
  },
  {
   "cell_type": "code",
   "execution_count": 22,
   "metadata": {
    "collapsed": false,
    "jupyter": {
     "outputs_hidden": false
    }
   },
   "outputs": [
    {
     "data": {
      "text/plain": [
       "(<Time object: scale='utc' format='jd' value=2458899.564590524>,\n",
       " <Time object: scale='utc' format='jd' value=2458900.133403937>)"
      ]
     },
     "execution_count": 22,
     "metadata": {},
     "output_type": "execute_result"
    }
   ],
   "source": [
    "tonight_here"
   ]
  },
  {
   "cell_type": "code",
   "execution_count": 23,
   "metadata": {
    "collapsed": false,
    "jupyter": {
     "outputs_hidden": false
    }
   },
   "outputs": [
    {
     "name": "stdout",
     "output_type": "stream",
     "text": [
      "Sunset will be at 2020-02-20 01:33:00.621 UTC\n",
      "Sunrise will be at 2020-02-20 15:12:06.100 UTC\n"
     ]
    }
   ],
   "source": [
    "print(f\"Sunset will be at {tonight_here[0].iso} UTC\")\n",
    "print(f\"Sunrise will be at {tonight_here[1].iso} UTC\")"
   ]
  },
  {
   "cell_type": "code",
   "execution_count": 24,
   "metadata": {
    "collapsed": false,
    "jupyter": {
     "outputs_hidden": false
    }
   },
   "outputs": [
    {
     "name": "stdout",
     "output_type": "stream",
     "text": [
      "Sunset will be at 2020-02-19 17:33:00.621269-08:00 local time\n",
      "Sunrise will be at 2020-02-20 07:12:06.100145-08:00 local time\n"
     ]
    }
   ],
   "source": [
    "local_sunset = tonight_here[0].to_datetime(this_room.timezone)\n",
    "local_sunrise = tonight_here[1].to_datetime(this_room.timezone)\n",
    "\n",
    "print(f\"Sunset will be at {local_sunset} local time\")\n",
    "print(f\"Sunrise will be at {local_sunrise} local time\")"
   ]
  },
  {
   "cell_type": "markdown",
   "metadata": {},
   "source": [
    "#### Astronomical twilight is when the Sun is 18 degrees below the horizon\n",
    "\n",
    "* This is often the time to begin/end observation"
   ]
  },
  {
   "cell_type": "code",
   "execution_count": 25,
   "metadata": {
    "collapsed": false,
    "jupyter": {
     "outputs_hidden": false
    }
   },
   "outputs": [],
   "source": [
    "observe_night = this_room.tonight(my_noon, horizon = -18 * u.deg)"
   ]
  },
  {
   "cell_type": "code",
   "execution_count": 26,
   "metadata": {
    "collapsed": false,
    "jupyter": {
     "outputs_hidden": false
    }
   },
   "outputs": [
    {
     "name": "stdout",
     "output_type": "stream",
     "text": [
      "Start observations tonight at 2020-02-20 03:21:18.560 UTC\n",
      "End observations tonight at 2020-02-20 13:24:05.822 UTC\n"
     ]
    }
   ],
   "source": [
    "print(f\"Start observations tonight at {observe_night[0].iso} UTC\")\n",
    "print(f\"End observations tonight at {observe_night[1].iso} UTC\")"
   ]
  },
  {
   "cell_type": "code",
   "execution_count": 27,
   "metadata": {
    "collapsed": false,
    "jupyter": {
     "outputs_hidden": false
    }
   },
   "outputs": [
    {
     "name": "stdout",
     "output_type": "stream",
     "text": [
      "You can observe for 10.0 h tonight\n"
     ]
    }
   ],
   "source": [
    "observing_length = (observe_night[1] - observe_night[0]).to(u.h)\n",
    "\n",
    "print(f\"You can observe for {observing_length:.1f} tonight\")"
   ]
  },
  {
   "cell_type": "code",
   "execution_count": 28,
   "metadata": {
    "collapsed": false,
    "jupyter": {
     "outputs_hidden": false
    }
   },
   "outputs": [
    {
     "name": "stdout",
     "output_type": "stream",
     "text": [
      "Tonight's observing starts at 2020-02-19 19:21:18.559510-08:00 local time\n",
      "Tonight's observing ends at 2020-02-20 05:24:05.822118-08:00 local time\n"
     ]
    }
   ],
   "source": [
    "# Local Times\n",
    "\n",
    "print(f\"Tonight's observing starts at {observe_night[0].to_datetime(this_room.timezone)} local time\")\n",
    "print(f\"Tonight's observing ends at {observe_night[1].to_datetime(this_room.timezone)} local time\")"
   ]
  },
  {
   "cell_type": "markdown",
   "metadata": {},
   "source": [
    "---\n",
    "\n",
    "# Things\n",
    "\n",
    "## Objects in the sky - `FixedTarget`"
   ]
  },
  {
   "cell_type": "markdown",
   "metadata": {},
   "source": [
    "### Most targets can be defined by name - Uses [SIMBAD](http://simbad.u-strasbg.fr/simbad/sim-fbasicwill)"
   ]
  },
  {
   "cell_type": "code",
   "execution_count": 29,
   "metadata": {
    "collapsed": false,
    "jupyter": {
     "outputs_hidden": false
    }
   },
   "outputs": [],
   "source": [
    "my_target_one = FixedTarget.from_name(\"ngc2403\")"
   ]
  },
  {
   "cell_type": "code",
   "execution_count": 30,
   "metadata": {
    "collapsed": false,
    "jupyter": {
     "outputs_hidden": false
    }
   },
   "outputs": [
    {
     "data": {
      "text/plain": [
       "<FixedTarget \"ngc2403\" at SkyCoord (ICRS): (ra, dec) in deg (114.21415, 65.60254722)>"
      ]
     },
     "execution_count": 30,
     "metadata": {},
     "output_type": "execute_result"
    }
   ],
   "source": [
    "my_target_one"
   ]
  },
  {
   "cell_type": "code",
   "execution_count": 31,
   "metadata": {
    "collapsed": false,
    "jupyter": {
     "outputs_hidden": false
    }
   },
   "outputs": [
    {
     "data": {
      "text/plain": [
       "<SkyCoord (ICRS): (ra, dec) in deg\n",
       "    (114.21415, 65.60254722)>"
      ]
     },
     "execution_count": 31,
     "metadata": {},
     "output_type": "execute_result"
    }
   ],
   "source": [
    "my_target_one.coord"
   ]
  },
  {
   "cell_type": "code",
   "execution_count": 32,
   "metadata": {
    "collapsed": false,
    "jupyter": {
     "outputs_hidden": false
    }
   },
   "outputs": [
    {
     "data": {
      "text/plain": [
       "hms_tuple(h=7.0, m=36.0, s=51.39600000000769)"
      ]
     },
     "execution_count": 32,
     "metadata": {},
     "output_type": "execute_result"
    }
   ],
   "source": [
    "my_target_one.ra.hms"
   ]
  },
  {
   "cell_type": "markdown",
   "metadata": {},
   "source": [
    "### Can you see the object at midnight tonight?"
   ]
  },
  {
   "cell_type": "code",
   "execution_count": 33,
   "metadata": {
    "collapsed": false,
    "jupyter": {
     "outputs_hidden": false
    }
   },
   "outputs": [],
   "source": [
    "my_midnight = this_room.midnight(my_noon, which='next')"
   ]
  },
  {
   "cell_type": "code",
   "execution_count": 34,
   "metadata": {
    "collapsed": false,
    "jupyter": {
     "outputs_hidden": false
    }
   },
   "outputs": [
    {
     "data": {
      "text/plain": [
       "True"
      ]
     },
     "execution_count": 34,
     "metadata": {},
     "output_type": "execute_result"
    }
   ],
   "source": [
    "this_room.target_is_up(my_midnight, my_target_one)"
   ]
  },
  {
   "cell_type": "markdown",
   "metadata": {},
   "source": [
    "---\n",
    "## Where in the sky?\n",
    "\n",
    "* Altitude (Alt) - Degrees above horizon\n",
    "* Azimuth (Az) - Compass degrees from North\n",
    "* `LOCATION.altaz(TIME, TARGET)`\n",
    "\n",
    "&nbsp;\n",
    "\n",
    "<p>\n",
    "<img src=\"./images/AltAz.gif\">\n",
    "</p>"
   ]
  },
  {
   "cell_type": "code",
   "execution_count": 35,
   "metadata": {
    "collapsed": false,
    "jupyter": {
     "outputs_hidden": false
    }
   },
   "outputs": [],
   "source": [
    "where_to_look = this_room.altaz(my_midnight, my_target_one)"
   ]
  },
  {
   "cell_type": "code",
   "execution_count": 36,
   "metadata": {
    "collapsed": false,
    "jupyter": {
     "outputs_hidden": false
    }
   },
   "outputs": [
    {
     "data": {
      "text/latex": [
       "$63^\\circ01{}^\\prime14.877{}^{\\prime\\prime}$"
      ],
      "text/plain": [
       "<Latitude 63.02079916 deg>"
      ]
     },
     "execution_count": 36,
     "metadata": {},
     "output_type": "execute_result"
    }
   ],
   "source": [
    "where_to_look.alt"
   ]
  },
  {
   "cell_type": "code",
   "execution_count": 37,
   "metadata": {
    "collapsed": false,
    "jupyter": {
     "outputs_hidden": false
    }
   },
   "outputs": [
    {
     "data": {
      "text/latex": [
       "$325^\\circ27{}^\\prime38.1204{}^{\\prime\\prime}$"
      ],
      "text/plain": [
       "<Longitude 325.46058901 deg>"
      ]
     },
     "execution_count": 37,
     "metadata": {},
     "output_type": "execute_result"
    }
   ],
   "source": [
    "where_to_look.az"
   ]
  },
  {
   "cell_type": "markdown",
   "metadata": {},
   "source": [
    "---\n",
    "### [Air Mass](https://en.wikipedia.org/wiki/Air_mass_%28astronomy%29) is the optical path length through Earth’s atmosphere. \n",
    "\n",
    "* At sea-level, the air mass at the zenith is 1. \n",
    "* Air mass increases as you move toward the horizon.\n",
    "* Air mass at the horizon is approximately 38.\n",
    "* The best time to observe a target is at minimum airmass.\n",
    "* When the airmass of your target is getting close to 2, you should be observing another target."
   ]
  },
  {
   "cell_type": "code",
   "execution_count": 38,
   "metadata": {
    "collapsed": false,
    "jupyter": {
     "outputs_hidden": false
    }
   },
   "outputs": [
    {
     "data": {
      "text/latex": [
       "$1.1221188 \\; \\mathrm{}$"
      ],
      "text/plain": [
       "<Quantity 1.12211876>"
      ]
     },
     "execution_count": 38,
     "metadata": {},
     "output_type": "execute_result"
    }
   ],
   "source": [
    "# You can find the airmass by using the .secz method\n",
    "\n",
    "where_to_look.secz"
   ]
  },
  {
   "cell_type": "markdown",
   "metadata": {},
   "source": [
    "##### Airmass < 2, you are good to go."
   ]
  },
  {
   "cell_type": "markdown",
   "metadata": {},
   "source": [
    "### Not all targets can (or should) be observed at all locations"
   ]
  },
  {
   "cell_type": "code",
   "execution_count": 39,
   "metadata": {
    "collapsed": false,
    "jupyter": {
     "outputs_hidden": false
    }
   },
   "outputs": [],
   "source": [
    "my_target_two = FixedTarget.from_name(\"Sirius\")"
   ]
  },
  {
   "cell_type": "code",
   "execution_count": 40,
   "metadata": {
    "collapsed": false,
    "jupyter": {
     "outputs_hidden": false
    }
   },
   "outputs": [
    {
     "data": {
      "text/plain": [
       "True"
      ]
     },
     "execution_count": 40,
     "metadata": {},
     "output_type": "execute_result"
    }
   ],
   "source": [
    "this_room.target_is_up(my_midnight, my_target_two)"
   ]
  },
  {
   "cell_type": "code",
   "execution_count": 41,
   "metadata": {
    "collapsed": false,
    "jupyter": {
     "outputs_hidden": false
    }
   },
   "outputs": [],
   "source": [
    "where_to_look_two = this_room.altaz(my_midnight, my_target_two)"
   ]
  },
  {
   "cell_type": "code",
   "execution_count": 42,
   "metadata": {
    "collapsed": false,
    "jupyter": {
     "outputs_hidden": false
    }
   },
   "outputs": [
    {
     "data": {
      "text/plain": [
       "(<Latitude 10.81036953 deg>, <Longitude 229.84480029 deg>)"
      ]
     },
     "execution_count": 42,
     "metadata": {},
     "output_type": "execute_result"
    }
   ],
   "source": [
    "where_to_look_two.alt, where_to_look_two.az"
   ]
  },
  {
   "cell_type": "code",
   "execution_count": 43,
   "metadata": {
    "collapsed": false,
    "jupyter": {
     "outputs_hidden": false
    }
   },
   "outputs": [
    {
     "data": {
      "text/latex": [
       "$5.3316531 \\; \\mathrm{}$"
      ],
      "text/plain": [
       "<Quantity 5.33165313>"
      ]
     },
     "execution_count": 43,
     "metadata": {},
     "output_type": "execute_result"
    }
   ],
   "source": [
    "where_to_look_two.secz"
   ]
  },
  {
   "cell_type": "markdown",
   "metadata": {},
   "source": [
    "##### Airmass > 2, a big NOPE!"
   ]
  },
  {
   "cell_type": "markdown",
   "metadata": {},
   "source": [
    "---\n",
    "\n",
    "## Planning observation is better with plots"
   ]
  },
  {
   "cell_type": "markdown",
   "metadata": {},
   "source": [
    "#### Setup our observing window"
   ]
  },
  {
   "cell_type": "code",
   "execution_count": 44,
   "metadata": {
    "collapsed": false,
    "jupyter": {
     "outputs_hidden": false
    }
   },
   "outputs": [],
   "source": [
    "my_time_grid = time_grid_from_range(observe_night, time_resolution = 1 * u.h)"
   ]
  },
  {
   "cell_type": "code",
   "execution_count": 45,
   "metadata": {
    "collapsed": false,
    "jupyter": {
     "outputs_hidden": false
    }
   },
   "outputs": [
    {
     "data": {
      "text/plain": [
       "<Time object: scale='utc' format='jd' value=[2458899.63979814 2458899.68146481 2458899.72313148 2458899.76479814\n",
       " 2458899.80646481 2458899.84813148 2458899.88979814 2458899.93146481\n",
       " 2458899.97313147 2458900.01479814 2458900.05646481]>"
      ]
     },
     "execution_count": 45,
     "metadata": {},
     "output_type": "execute_result"
    }
   ],
   "source": [
    "my_time_grid"
   ]
  },
  {
   "cell_type": "markdown",
   "metadata": {},
   "source": [
    "### Simple Plot - (ignore error)"
   ]
  },
  {
   "cell_type": "code",
   "execution_count": 46,
   "metadata": {
    "collapsed": false,
    "jupyter": {
     "outputs_hidden": false
    }
   },
   "outputs": [
    {
     "data": {
      "image/png": "[encoded data removed]",
      "text/plain": [
       "<Figure size 432x288 with 1 Axes>"
      ]
     },
     "metadata": {
      "needs_background": "light"
     },
     "output_type": "display_data"
    }
   ],
   "source": [
    "plot_airmass(my_target_one, this_room, my_time_grid);"
   ]
  },
  {
   "cell_type": "markdown",
   "metadata": {},
   "source": [
    "### Better Plot"
   ]
  },
  {
   "cell_type": "markdown",
   "metadata": {},
   "source": [
    "##### Make a target list"
   ]
  },
  {
   "cell_type": "code",
   "execution_count": 47,
   "metadata": {
    "collapsed": false,
    "jupyter": {
     "outputs_hidden": false
    }
   },
   "outputs": [],
   "source": [
    "target_list = [my_target_one, my_target_two]"
   ]
  },
  {
   "cell_type": "code",
   "execution_count": 48,
   "metadata": {
    "collapsed": false,
    "jupyter": {
     "outputs_hidden": false
    }
   },
   "outputs": [
    {
     "data": {
      "image/png": "[encoded data removed]",
      "text/plain": [
       "<Figure size 864x432 with 1 Axes>"
      ]
     },
     "metadata": {
      "needs_background": "light"
     },
     "output_type": "display_data"
    }
   ],
   "source": [
    "fig,ax = plt.subplots(1,1)\n",
    "fig.set_size_inches(12,6)\n",
    "\n",
    "fig.tight_layout()\n",
    "\n",
    "for my_object in target_list:\n",
    "    ax = plot_airmass(my_object, this_room, my_time_grid)\n",
    "\n",
    "ax.legend(loc=0,shadow=True);"
   ]
  },
  {
   "cell_type": "markdown",
   "metadata": {},
   "source": [
    "---\n",
    "### [There is lots of information available for your location](https://astroplan.readthedocs.io/en/latest/api/astroplan.Observer.html)\n"
   ]
  },
  {
   "cell_type": "code",
   "execution_count": 49,
   "metadata": {
    "collapsed": false,
    "jupyter": {
     "outputs_hidden": false
    }
   },
   "outputs": [
    {
     "data": {
      "text/plain": [
       "False"
      ]
     },
     "execution_count": 49,
     "metadata": {},
     "output_type": "execute_result"
    }
   ],
   "source": [
    "this_room.is_night(my_noon)"
   ]
  },
  {
   "cell_type": "code",
   "execution_count": 50,
   "metadata": {
    "collapsed": false,
    "jupyter": {
     "outputs_hidden": false
    }
   },
   "outputs": [
    {
     "data": {
      "text/plain": [
       "<SkyCoord (AltAz: obstime=2458899.34956422, location=(-2300696.13625653, -3637728.46313361, 4691060.73294862) m, pressure=0.0 hPa, temperature=0.0 deg_C, relative_humidity=0.0, obswl=1.0 micron): (az, alt, distance) in (deg, deg, m)\n",
       "    (180.0849511, 31.10176267, 1.478794e+11)>"
      ]
     },
     "execution_count": 50,
     "metadata": {},
     "output_type": "execute_result"
    }
   ],
   "source": [
    "this_room.sun_altaz(my_noon)"
   ]
  },
  {
   "cell_type": "code",
   "execution_count": 51,
   "metadata": {
    "collapsed": false,
    "jupyter": {
     "outputs_hidden": false
    }
   },
   "outputs": [
    {
     "data": {
      "text/plain": [
       "0.10136165262307362"
      ]
     },
     "execution_count": 51,
     "metadata": {},
     "output_type": "execute_result"
    }
   ],
   "source": [
    "this_room.moon_illumination(my_midnight)"
   ]
  },
  {
   "cell_type": "code",
   "execution_count": 52,
   "metadata": {
    "collapsed": false,
    "jupyter": {
     "outputs_hidden": false
    }
   },
   "outputs": [
    {
     "data": {
      "text/latex": [
       "$10^\\mathrm{h}12^\\mathrm{m}33.0018^\\mathrm{s}$"
      ],
      "text/plain": [
       "<Longitude 10.20916715 hourangle>"
      ]
     },
     "execution_count": 52,
     "metadata": {},
     "output_type": "execute_result"
    }
   ],
   "source": [
    "this_room.local_sidereal_time(my_midnight)"
   ]
  },
  {
   "cell_type": "code",
   "execution_count": null,
   "metadata": {
    "collapsed": false,
    "jupyter": {
     "outputs_hidden": false
    }
   },
   "outputs": [],
   "source": []
  }
 ],
 "metadata": {
  "anaconda-cloud": {},
  "kernelspec": {
   "display_name": "Python 3",
   "language": "python",
   "name": "python3"
  },
  "language_info": {
   "codemirror_mode": {
    "name": "ipython",
    "version": 3
   },
   "file_extension": ".py",
   "mimetype": "text/x-python",
   "name": "python",
   "nbconvert_exporter": "python",
   "pygments_lexer": "ipython3",
   "version": "3.7.5"
  }
 },
 "nbformat": 4,
 "nbformat_minor": 4
}
