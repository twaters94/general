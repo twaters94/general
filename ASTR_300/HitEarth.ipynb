{
 "cells": [
  {
   "cell_type": "markdown",
   "metadata": {},
   "source": [
    "# Hit Earth\n",
    "\n",
    "* You failed to destroy the asteroids!\n",
    "* [But there's no sense crying / Over every mistake](https://www.youtube.com/watch?v=Y6ljFaKRTrI)\n",
    "* There is still science to be done!\n",
    "\n",
    "<p>\n",
    "<img src=\"./images/GLaDOS.gif\">\n",
    "</p>"
   ]
  },
  {
   "cell_type": "code",
   "execution_count": 61,
   "metadata": {
    "collapsed": false,
    "jupyter": {
     "outputs_hidden": false
    }
   },
   "outputs": [],
   "source": [
    "import numpy as np\n",
    "import pandas as pd\n",
    "\n",
    "from astropy import units as u\n",
    "from astropy import constants as const\n",
    "from astropy.table import QTable, Table"
   ]
  },
  {
   "cell_type": "markdown",
   "metadata": {},
   "source": [
    "## Read in your `.ecsv` table from the last homework"
   ]
  },
  {
   "cell_type": "code",
   "execution_count": 62,
   "metadata": {
    "collapsed": false,
    "jupyter": {
     "outputs_hidden": false
    }
   },
   "outputs": [
    {
     "data": {
      "text/html": [
       "<i>QTable length=5</i>\n",
       "<table id=\"table139829740561744\" class=\"table-striped table-bordered table-condensed\">\n",
       "<thead><tr><th>Name</th><th>Semi_Major_AU</th><th>Eccentricity</th><th>Abs_Mag</th><th>Albedo</th><th>Diameter_km</th><th>Mass_kg</th><th>Number_of_Bombs</th></tr></thead>\n",
       "<thead><tr><th></th><th></th><th></th><th></th><th></th><th>km</th><th>kg</th><th></th></tr></thead>\n",
       "<thead><tr><th>str8</th><th>float64</th><th>float64</th><th>float64</th><th>float64</th><th>float64</th><th>float64</th><th>float64</th></tr></thead>\n",
       "<tr><td>Khufu</td><td>0.989537560450789</td><td>0.4685174247283059</td><td>18.3</td><td>0.21</td><td>0.6344761967444104</td><td>401204575971.24207</td><td>4.861016663911411</td></tr>\n",
       "<tr><td>Orpheus</td><td>1.209662179045708</td><td>0.3227518287938224</td><td>19.03</td><td>0.357</td><td>0.347688937525904</td><td>66022580639.14006</td><td>0.2402175904745984</td></tr>\n",
       "<tr><td>Zephyr</td><td>1.961922094181047</td><td>0.4920120116291148</td><td>15.7</td><td>0.199</td><td>2.158233566515278</td><td>15791202589205.992</td><td>2213.8217793738318</td></tr>\n",
       "<tr><td>Cuno</td><td>1.982718743264263</td><td>0.6342867024321133</td><td>14.1</td><td>0.097</td><td>6.458610790185056</td><td>423191775134435.2</td><td>531307.57894846</td></tr>\n",
       "<tr><td>Dionysus</td><td>2.19861623099639</td><td>0.5415435918949166</td><td>16.4</td><td>0.16</td><td>1.74367278667987</td><td>8327503921458.562</td><td>762.0358269211135</td></tr>\n",
       "</table>"
      ],
      "text/plain": [
       "<QTable length=5>\n",
       "  Name     Semi_Major_AU   ...      Mass_kg        Number_of_Bombs  \n",
       "                           ...         kg                           \n",
       "  str8        float64      ...      float64            float64      \n",
       "-------- ----------------- ... ------------------ ------------------\n",
       "   Khufu 0.989537560450789 ... 401204575971.24207  4.861016663911411\n",
       " Orpheus 1.209662179045708 ...  66022580639.14006 0.2402175904745984\n",
       "  Zephyr 1.961922094181047 ... 15791202589205.992 2213.8217793738318\n",
       "    Cuno 1.982718743264263 ...  423191775134435.2    531307.57894846\n",
       "Dionysus  2.19861623099639 ...  8327503921458.562  762.0358269211135"
      ]
     },
     "execution_count": 62,
     "metadata": {},
     "output_type": "execute_result"
    }
   ],
   "source": [
    "PHA_Table =  QTable.read('./Data/PHA_QTable_ThomasWaters.ecsv', format='ascii.ecsv')\n",
    "PHA_Table"
   ]
  },
  {
   "cell_type": "markdown",
   "metadata": {},
   "source": [
    "---\n",
    "\n",
    "## Determine the orbital speed of each of the PHAs at **r** = 1 AU.\n",
    "\n",
    "* Write a function: `find_orbital_speed`\n",
    "* Make sure you use units.\n",
    "* Express your answer [SI](https://en.wikipedia.org/wiki/International_System_of_Units) units.\n",
    "* Add a column `Orbital_Speed` to the table."
   ]
  },
  {
   "cell_type": "code",
   "execution_count": 63,
   "metadata": {
    "collapsed": false,
    "jupyter": {
     "outputs_hidden": false
    }
   },
   "outputs": [],
   "source": [
    "# Write Function\n",
    "def find_orbital_speed(radius,semimajor):\n",
    "    v = np.sqrt(const.G*const.M_sun*((2/radius)-(1/semimajor)))\n",
    "    return v.decompose()"
   ]
  },
  {
   "cell_type": "code",
   "execution_count": 64,
   "metadata": {
    "collapsed": false,
    "jupyter": {
     "outputs_hidden": false
    }
   },
   "outputs": [
    {
     "data": {
      "text/html": [
       "<i>QTable length=5</i>\n",
       "<table id=\"table139829740561744\" class=\"table-striped table-bordered table-condensed\">\n",
       "<thead><tr><th>Name</th><th>Semi_Major_AU</th><th>Eccentricity</th><th>Abs_Mag</th><th>Albedo</th><th>Diameter_km</th><th>Mass_kg</th><th>Number_of_Bombs</th></tr></thead>\n",
       "<thead><tr><th></th><th>AU</th><th></th><th></th><th></th><th>km</th><th>kg</th><th></th></tr></thead>\n",
       "<thead><tr><th>str8</th><th>float64</th><th>float64</th><th>float64</th><th>float64</th><th>float64</th><th>float64</th><th>float64</th></tr></thead>\n",
       "<tr><td>Khufu</td><td>0.989537560450789</td><td>0.4685174247283059</td><td>18.3</td><td>0.21</td><td>0.6344761967444104</td><td>401204575971.24207</td><td>4.861016663911411</td></tr>\n",
       "<tr><td>Orpheus</td><td>1.209662179045708</td><td>0.3227518287938224</td><td>19.03</td><td>0.357</td><td>0.347688937525904</td><td>66022580639.14006</td><td>0.2402175904745984</td></tr>\n",
       "<tr><td>Zephyr</td><td>1.961922094181047</td><td>0.4920120116291148</td><td>15.7</td><td>0.199</td><td>2.158233566515278</td><td>15791202589205.992</td><td>2213.8217793738318</td></tr>\n",
       "<tr><td>Cuno</td><td>1.982718743264263</td><td>0.6342867024321133</td><td>14.1</td><td>0.097</td><td>6.458610790185056</td><td>423191775134435.2</td><td>531307.57894846</td></tr>\n",
       "<tr><td>Dionysus</td><td>2.19861623099639</td><td>0.5415435918949166</td><td>16.4</td><td>0.16</td><td>1.74367278667987</td><td>8327503921458.562</td><td>762.0358269211135</td></tr>\n",
       "</table>"
      ],
      "text/plain": [
       "<QTable length=5>\n",
       "  Name     Semi_Major_AU   ...      Mass_kg        Number_of_Bombs  \n",
       "                 AU        ...         kg                           \n",
       "  str8        float64      ...      float64            float64      \n",
       "-------- ----------------- ... ------------------ ------------------\n",
       "   Khufu 0.989537560450789 ... 401204575971.24207  4.861016663911411\n",
       " Orpheus 1.209662179045708 ...  66022580639.14006 0.2402175904745984\n",
       "  Zephyr 1.961922094181047 ... 15791202589205.992 2213.8217793738318\n",
       "    Cuno 1.982718743264263 ...  423191775134435.2    531307.57894846\n",
       "Dionysus  2.19861623099639 ...  8327503921458.562  762.0358269211135"
      ]
     },
     "execution_count": 64,
     "metadata": {},
     "output_type": "execute_result"
    }
   ],
   "source": [
    "# Use Function\n",
    "PHA_Table['Semi_Major_AU'].unit = u.AU\n",
    "PHA_Table"
   ]
  },
  {
   "cell_type": "code",
   "execution_count": 65,
   "metadata": {},
   "outputs": [
    {
     "data": {
      "text/latex": [
       "$[29626.816,~32262.788,~36360.458,~36425.619,~37023.803] \\; \\mathrm{\\frac{m}{s}}$"
      ],
      "text/plain": [
       "<Quantity [29626.81575233, 32262.78751568, 36360.45797083, 36425.61907017,\n",
       "           37023.80319718] m / s>"
      ]
     },
     "execution_count": 65,
     "metadata": {},
     "output_type": "execute_result"
    }
   ],
   "source": [
    "Orbital_speed = find_orbital_speed(1*u.AU,PHA_Table['Semi_Major_AU'])\n",
    "Orbital_speed"
   ]
  },
  {
   "cell_type": "code",
   "execution_count": 66,
   "metadata": {
    "collapsed": false,
    "jupyter": {
     "outputs_hidden": false
    }
   },
   "outputs": [
    {
     "data": {
      "text/html": [
       "<i>QTable length=5</i>\n",
       "<table id=\"table139829740561744\" class=\"table-striped table-bordered table-condensed\">\n",
       "<thead><tr><th>Name</th><th>Semi_Major_AU</th><th>Eccentricity</th><th>Abs_Mag</th><th>Albedo</th><th>Diameter_km</th><th>Mass_kg</th><th>Number_of_Bombs</th><th>Orbital_speed</th></tr></thead>\n",
       "<thead><tr><th></th><th>AU</th><th></th><th></th><th></th><th>km</th><th>kg</th><th></th><th>m / s</th></tr></thead>\n",
       "<thead><tr><th>str8</th><th>float64</th><th>float64</th><th>float64</th><th>float64</th><th>float64</th><th>float64</th><th>float64</th><th>float64</th></tr></thead>\n",
       "<tr><td>Khufu</td><td>0.989537560450789</td><td>0.4685174247283059</td><td>18.3</td><td>0.21</td><td>0.6344761967444104</td><td>401204575971.24207</td><td>4.861016663911411</td><td>29626.815752328144</td></tr>\n",
       "<tr><td>Orpheus</td><td>1.209662179045708</td><td>0.3227518287938224</td><td>19.03</td><td>0.357</td><td>0.347688937525904</td><td>66022580639.14006</td><td>0.2402175904745984</td><td>32262.787515679953</td></tr>\n",
       "<tr><td>Zephyr</td><td>1.961922094181047</td><td>0.4920120116291148</td><td>15.7</td><td>0.199</td><td>2.158233566515278</td><td>15791202589205.992</td><td>2213.8217793738318</td><td>36360.4579708263</td></tr>\n",
       "<tr><td>Cuno</td><td>1.982718743264263</td><td>0.6342867024321133</td><td>14.1</td><td>0.097</td><td>6.458610790185056</td><td>423191775134435.2</td><td>531307.57894846</td><td>36425.61907016885</td></tr>\n",
       "<tr><td>Dionysus</td><td>2.19861623099639</td><td>0.5415435918949166</td><td>16.4</td><td>0.16</td><td>1.74367278667987</td><td>8327503921458.562</td><td>762.0358269211135</td><td>37023.80319717591</td></tr>\n",
       "</table>"
      ],
      "text/plain": [
       "<QTable length=5>\n",
       "  Name     Semi_Major_AU   ...  Number_of_Bombs     Orbital_speed   \n",
       "                 AU        ...                          m / s       \n",
       "  str8        float64      ...      float64            float64      \n",
       "-------- ----------------- ... ------------------ ------------------\n",
       "   Khufu 0.989537560450789 ...  4.861016663911411 29626.815752328144\n",
       " Orpheus 1.209662179045708 ... 0.2402175904745984 32262.787515679953\n",
       "  Zephyr 1.961922094181047 ... 2213.8217793738318   36360.4579708263\n",
       "    Cuno 1.982718743264263 ...    531307.57894846  36425.61907016885\n",
       "Dionysus  2.19861623099639 ...  762.0358269211135  37023.80319717591"
      ]
     },
     "execution_count": 66,
     "metadata": {},
     "output_type": "execute_result"
    }
   ],
   "source": [
    "# Add column\n",
    "PHA_Table['Orbital_speed'] = Orbital_speed\n",
    "PHA_Table"
   ]
  },
  {
   "cell_type": "markdown",
   "metadata": {},
   "source": [
    "---\n",
    "\n",
    "## Determine the encounter speed of each of the PHAs.\n",
    "\n",
    "* Write a function: `find_encounter_speed`\n",
    "* Make sure you use units.\n",
    "* Express your answer [SI](https://en.wikipedia.org/wiki/International_System_of_Units) units.\n",
    "* Add a column `Encounter_Speed` to the table."
   ]
  },
  {
   "cell_type": "code",
   "execution_count": 67,
   "metadata": {
    "collapsed": false,
    "jupyter": {
     "outputs_hidden": false
    }
   },
   "outputs": [],
   "source": [
    "# Write Function\n",
    "v_earth = 30*(u.km/u.s)\n",
    "def find_encounter_speed(v_ast):\n",
    "    v_enc = v_ast - v_earth\n",
    "    return v_enc.decompose()   "
   ]
  },
  {
   "cell_type": "code",
   "execution_count": 68,
   "metadata": {
    "collapsed": false,
    "jupyter": {
     "outputs_hidden": false
    }
   },
   "outputs": [
    {
     "data": {
      "text/latex": [
       "$[-373.18425,~2262.7875,~6360.458,~6425.6191,~7023.8032] \\; \\mathrm{\\frac{m}{s}}$"
      ],
      "text/plain": [
       "<Quantity [-373.18424767, 2262.78751568, 6360.45797083, 6425.61907017,\n",
       "           7023.80319718] m / s>"
      ]
     },
     "execution_count": 68,
     "metadata": {},
     "output_type": "execute_result"
    }
   ],
   "source": [
    "# Use Function\n",
    "Encounter_Speed = find_encounter_speed(PHA_Table['Orbital_speed'])\n",
    "Encounter_Speed"
   ]
  },
  {
   "cell_type": "code",
   "execution_count": 69,
   "metadata": {
    "collapsed": false,
    "jupyter": {
     "outputs_hidden": false
    }
   },
   "outputs": [
    {
     "data": {
      "text/html": [
       "<i>QTable length=5</i>\n",
       "<table id=\"table139829740561744\" class=\"table-striped table-bordered table-condensed\">\n",
       "<thead><tr><th>Name</th><th>Semi_Major_AU</th><th>Eccentricity</th><th>Abs_Mag</th><th>Albedo</th><th>Diameter_km</th><th>Mass_kg</th><th>Number_of_Bombs</th><th>Orbital_speed</th><th>Encounter_Speed</th></tr></thead>\n",
       "<thead><tr><th></th><th>AU</th><th></th><th></th><th></th><th>km</th><th>kg</th><th></th><th>m / s</th><th>m / s</th></tr></thead>\n",
       "<thead><tr><th>str8</th><th>float64</th><th>float64</th><th>float64</th><th>float64</th><th>float64</th><th>float64</th><th>float64</th><th>float64</th><th>float64</th></tr></thead>\n",
       "<tr><td>Khufu</td><td>0.989537560450789</td><td>0.4685174247283059</td><td>18.3</td><td>0.21</td><td>0.6344761967444104</td><td>401204575971.24207</td><td>4.861016663911411</td><td>29626.815752328144</td><td>-373.1842476718557</td></tr>\n",
       "<tr><td>Orpheus</td><td>1.209662179045708</td><td>0.3227518287938224</td><td>19.03</td><td>0.357</td><td>0.347688937525904</td><td>66022580639.14006</td><td>0.2402175904745984</td><td>32262.787515679953</td><td>2262.787515679953</td></tr>\n",
       "<tr><td>Zephyr</td><td>1.961922094181047</td><td>0.4920120116291148</td><td>15.7</td><td>0.199</td><td>2.158233566515278</td><td>15791202589205.992</td><td>2213.8217793738318</td><td>36360.4579708263</td><td>6360.457970826297</td></tr>\n",
       "<tr><td>Cuno</td><td>1.982718743264263</td><td>0.6342867024321133</td><td>14.1</td><td>0.097</td><td>6.458610790185056</td><td>423191775134435.2</td><td>531307.57894846</td><td>36425.61907016885</td><td>6425.6190701688465</td></tr>\n",
       "<tr><td>Dionysus</td><td>2.19861623099639</td><td>0.5415435918949166</td><td>16.4</td><td>0.16</td><td>1.74367278667987</td><td>8327503921458.562</td><td>762.0358269211135</td><td>37023.80319717591</td><td>7023.803197175912</td></tr>\n",
       "</table>"
      ],
      "text/plain": [
       "<QTable length=5>\n",
       "  Name     Semi_Major_AU   ...   Orbital_speed     Encounter_Speed  \n",
       "                 AU        ...       m / s              m / s       \n",
       "  str8        float64      ...      float64            float64      \n",
       "-------- ----------------- ... ------------------ ------------------\n",
       "   Khufu 0.989537560450789 ... 29626.815752328144 -373.1842476718557\n",
       " Orpheus 1.209662179045708 ... 32262.787515679953  2262.787515679953\n",
       "  Zephyr 1.961922094181047 ...   36360.4579708263  6360.457970826297\n",
       "    Cuno 1.982718743264263 ...  36425.61907016885 6425.6190701688465\n",
       "Dionysus  2.19861623099639 ...  37023.80319717591  7023.803197175912"
      ]
     },
     "execution_count": 69,
     "metadata": {},
     "output_type": "execute_result"
    }
   ],
   "source": [
    "# Add column\n",
    "PHA_Table['Encounter_Speed'] = Encounter_Speed\n",
    "PHA_Table"
   ]
  },
  {
   "cell_type": "markdown",
   "metadata": {},
   "source": [
    "---\n",
    "\n",
    "## Determine the impact speed of each of the PHAs.\n",
    "\n",
    "* Write a function: `find_impact_speed`\n",
    "* Make sure you use units.\n",
    "* Express your answer [SI](https://en.wikipedia.org/wiki/International_System_of_Units) units.\n",
    "* Add a column `Impact_Speed` to the table."
   ]
  },
  {
   "cell_type": "code",
   "execution_count": 70,
   "metadata": {
    "collapsed": false,
    "jupyter": {
     "outputs_hidden": false
    }
   },
   "outputs": [],
   "source": [
    "# Write Function\n",
    "v_escape = 11.2 * (u.km/u.s)\n",
    "def find_impact_speed(v_enc):\n",
    "    v_impact = np.sqrt(v_enc**2 + v_escape**2)\n",
    "    return v_impact.decompose()"
   ]
  },
  {
   "cell_type": "code",
   "execution_count": 71,
   "metadata": {
    "collapsed": false,
    "jupyter": {
     "outputs_hidden": false
    }
   },
   "outputs": [
    {
     "data": {
      "text/latex": [
       "$[11206.216,~11426.295,~12880.04,~12912.342,~13220.205] \\; \\mathrm{\\frac{m}{s}}$"
      ],
      "text/plain": [
       "<Quantity [11206.21552901, 11426.29455865, 12880.03981355, 12912.34217464,\n",
       "           13220.2046638 ] m / s>"
      ]
     },
     "execution_count": 71,
     "metadata": {},
     "output_type": "execute_result"
    }
   ],
   "source": [
    "# Use Function\n",
    "Impact_Speed = find_impact_speed(PHA_Table['Encounter_Speed'])\n",
    "Impact_Speed"
   ]
  },
  {
   "cell_type": "code",
   "execution_count": 72,
   "metadata": {
    "collapsed": false,
    "jupyter": {
     "outputs_hidden": false
    }
   },
   "outputs": [
    {
     "data": {
      "text/html": [
       "<i>QTable length=5</i>\n",
       "<table id=\"table139829740561744\" class=\"table-striped table-bordered table-condensed\">\n",
       "<thead><tr><th>Name</th><th>Semi_Major_AU</th><th>Eccentricity</th><th>Abs_Mag</th><th>Albedo</th><th>Diameter_km</th><th>Mass_kg</th><th>Number_of_Bombs</th><th>Orbital_speed</th><th>Encounter_Speed</th><th>Impact_Speed</th></tr></thead>\n",
       "<thead><tr><th></th><th>AU</th><th></th><th></th><th></th><th>km</th><th>kg</th><th></th><th>m / s</th><th>m / s</th><th>m / s</th></tr></thead>\n",
       "<thead><tr><th>str8</th><th>float64</th><th>float64</th><th>float64</th><th>float64</th><th>float64</th><th>float64</th><th>float64</th><th>float64</th><th>float64</th><th>float64</th></tr></thead>\n",
       "<tr><td>Khufu</td><td>0.989537560450789</td><td>0.4685174247283059</td><td>18.3</td><td>0.21</td><td>0.6344761967444104</td><td>401204575971.24207</td><td>4.861016663911411</td><td>29626.815752328144</td><td>-373.1842476718557</td><td>11206.215529013816</td></tr>\n",
       "<tr><td>Orpheus</td><td>1.209662179045708</td><td>0.3227518287938224</td><td>19.03</td><td>0.357</td><td>0.347688937525904</td><td>66022580639.14006</td><td>0.2402175904745984</td><td>32262.787515679953</td><td>2262.787515679953</td><td>11426.294558653608</td></tr>\n",
       "<tr><td>Zephyr</td><td>1.961922094181047</td><td>0.4920120116291148</td><td>15.7</td><td>0.199</td><td>2.158233566515278</td><td>15791202589205.992</td><td>2213.8217793738318</td><td>36360.4579708263</td><td>6360.457970826297</td><td>12880.03981355057</td></tr>\n",
       "<tr><td>Cuno</td><td>1.982718743264263</td><td>0.6342867024321133</td><td>14.1</td><td>0.097</td><td>6.458610790185056</td><td>423191775134435.2</td><td>531307.57894846</td><td>36425.61907016885</td><td>6425.6190701688465</td><td>12912.342174637317</td></tr>\n",
       "<tr><td>Dionysus</td><td>2.19861623099639</td><td>0.5415435918949166</td><td>16.4</td><td>0.16</td><td>1.74367278667987</td><td>8327503921458.562</td><td>762.0358269211135</td><td>37023.80319717591</td><td>7023.803197175912</td><td>13220.20466379619</td></tr>\n",
       "</table>"
      ],
      "text/plain": [
       "<QTable length=5>\n",
       "  Name     Semi_Major_AU   ...  Encounter_Speed      Impact_Speed   \n",
       "                 AU        ...       m / s              m / s       \n",
       "  str8        float64      ...      float64            float64      \n",
       "-------- ----------------- ... ------------------ ------------------\n",
       "   Khufu 0.989537560450789 ... -373.1842476718557 11206.215529013816\n",
       " Orpheus 1.209662179045708 ...  2262.787515679953 11426.294558653608\n",
       "  Zephyr 1.961922094181047 ...  6360.457970826297  12880.03981355057\n",
       "    Cuno 1.982718743264263 ... 6425.6190701688465 12912.342174637317\n",
       "Dionysus  2.19861623099639 ...  7023.803197175912  13220.20466379619"
      ]
     },
     "execution_count": 72,
     "metadata": {},
     "output_type": "execute_result"
    }
   ],
   "source": [
    "# Add column\n",
    "PHA_Table['Impact_Speed'] = Impact_Speed\n",
    "PHA_Table"
   ]
  },
  {
   "cell_type": "markdown",
   "metadata": {},
   "source": [
    "---\n",
    "\n",
    "## Determine the kinetic energy each PHA would have if they impacted the surface of the Earth.\n",
    "\n",
    "* Write a function: `find_impact_ke`\n",
    "* Make sure you use units.\n",
    "* Express your answer [SI](https://en.wikipedia.org/wiki/International_System_of_Units) units.\n",
    "* Add a column `Impact_KE` to the table."
   ]
  },
  {
   "cell_type": "code",
   "execution_count": 76,
   "metadata": {
    "collapsed": false,
    "jupyter": {
     "outputs_hidden": false
    }
   },
   "outputs": [],
   "source": [
    "# Write Function\n",
    "def find_impact_ke(mass,velocity):\n",
    "    KE = 0.5*mass*velocity**2\n",
    "    return KE.to(u.J)"
   ]
  },
  {
   "cell_type": "code",
   "execution_count": 78,
   "metadata": {
    "collapsed": false,
    "jupyter": {
     "outputs_hidden": false
    }
   },
   "outputs": [
    {
     "data": {
      "text/latex": [
       "$[2.5191488 \\times 10^{19},~4.3099609 \\times 10^{18},~1.3098441 \\times 10^{21},~3.5279082 \\times 10^{22},~7.277148 \\times 10^{20}] \\; \\mathrm{J}$"
      ],
      "text/plain": [
       "<Quantity [2.51914882e+19, 4.30996091e+18, 1.30984414e+21, 3.52790820e+22,\n",
       "           7.27714800e+20] J>"
      ]
     },
     "execution_count": 78,
     "metadata": {},
     "output_type": "execute_result"
    }
   ],
   "source": [
    "# Use Function\n",
    "Impact_KE = find_impact_ke(PHA_Table['Mass_kg'], PHA_Table['Impact_Speed'])\n",
    "Impact_KE"
   ]
  },
  {
   "cell_type": "code",
   "execution_count": 79,
   "metadata": {
    "collapsed": false,
    "jupyter": {
     "outputs_hidden": false
    }
   },
   "outputs": [
    {
     "data": {
      "text/html": [
       "<i>QTable length=5</i>\n",
       "<table id=\"table139829740561744\" class=\"table-striped table-bordered table-condensed\">\n",
       "<thead><tr><th>Name</th><th>Semi_Major_AU</th><th>Eccentricity</th><th>Abs_Mag</th><th>Albedo</th><th>Diameter_km</th><th>Mass_kg</th><th>Number_of_Bombs</th><th>Orbital_speed</th><th>Encounter_Speed</th><th>Impact_Speed</th><th>Impact_KE</th></tr></thead>\n",
       "<thead><tr><th></th><th>AU</th><th></th><th></th><th></th><th>km</th><th>kg</th><th></th><th>m / s</th><th>m / s</th><th>m / s</th><th>J</th></tr></thead>\n",
       "<thead><tr><th>str8</th><th>float64</th><th>float64</th><th>float64</th><th>float64</th><th>float64</th><th>float64</th><th>float64</th><th>float64</th><th>float64</th><th>float64</th><th>float64</th></tr></thead>\n",
       "<tr><td>Khufu</td><td>0.989537560450789</td><td>0.4685174247283059</td><td>18.3</td><td>0.21</td><td>0.6344761967444104</td><td>401204575971.24207</td><td>4.861016663911411</td><td>29626.815752328144</td><td>-373.1842476718557</td><td>11206.215529013816</td><td>2.519148817998772e+19</td></tr>\n",
       "<tr><td>Orpheus</td><td>1.209662179045708</td><td>0.3227518287938224</td><td>19.03</td><td>0.357</td><td>0.347688937525904</td><td>66022580639.14006</td><td>0.2402175904745984</td><td>32262.787515679953</td><td>2262.787515679953</td><td>11426.294558653608</td><td>4.3099609087208735e+18</td></tr>\n",
       "<tr><td>Zephyr</td><td>1.961922094181047</td><td>0.4920120116291148</td><td>15.7</td><td>0.199</td><td>2.158233566515278</td><td>15791202589205.992</td><td>2213.8217793738318</td><td>36360.4579708263</td><td>6360.457970826297</td><td>12880.03981355057</td><td>1.3098441371253984e+21</td></tr>\n",
       "<tr><td>Cuno</td><td>1.982718743264263</td><td>0.6342867024321133</td><td>14.1</td><td>0.097</td><td>6.458610790185056</td><td>423191775134435.2</td><td>531307.57894846</td><td>36425.61907016885</td><td>6425.6190701688465</td><td>12912.342174637317</td><td>3.5279081959948613e+22</td></tr>\n",
       "<tr><td>Dionysus</td><td>2.19861623099639</td><td>0.5415435918949166</td><td>16.4</td><td>0.16</td><td>1.74367278667987</td><td>8327503921458.562</td><td>762.0358269211135</td><td>37023.80319717591</td><td>7023.803197175912</td><td>13220.20466379619</td><td>7.277147997037615e+20</td></tr>\n",
       "</table>"
      ],
      "text/plain": [
       "<QTable length=5>\n",
       "  Name     Semi_Major_AU   ...    Impact_Speed          Impact_KE       \n",
       "                 AU        ...       m / s                  J           \n",
       "  str8        float64      ...      float64              float64        \n",
       "-------- ----------------- ... ------------------ ----------------------\n",
       "   Khufu 0.989537560450789 ... 11206.215529013816  2.519148817998772e+19\n",
       " Orpheus 1.209662179045708 ... 11426.294558653608 4.3099609087208735e+18\n",
       "  Zephyr 1.961922094181047 ...  12880.03981355057 1.3098441371253984e+21\n",
       "    Cuno 1.982718743264263 ... 12912.342174637317 3.5279081959948613e+22\n",
       "Dionysus  2.19861623099639 ...  13220.20466379619  7.277147997037615e+20"
      ]
     },
     "execution_count": 79,
     "metadata": {},
     "output_type": "execute_result"
    }
   ],
   "source": [
    "# Add column\n",
    "PHA_Table['Impact_KE'] = Impact_KE\n",
    "PHA_Table"
   ]
  },
  {
   "cell_type": "markdown",
   "metadata": {},
   "source": [
    "---\n",
    "\n",
    "## Orbital Speed - [Vis-viva equation](https://en.wikipedia.org/wiki/Vis-viva_equation)\n",
    "\n",
    "The speed of an object on an elliptical orbit around the Sun (with semi-major axis = `a`) at a distance `r` is:\n",
    "\n",
    "$$ \\large\n",
    "v^{2}\\ =\\ {GM_{\\odot}\\ \\left(\\ \\frac{2}{r} - \\frac{1}{a}\\ \\right)}\n",
    "$$\n",
    "\n",
    "Watch your units! Both `r` and `a` should have the same type of unit\n",
    "\n",
    "---\n",
    "\n",
    "## Encountering the Earth\n",
    "\n",
    "The encounter speed of an asteroid meeting the Earth at 1 AU is (assuimg aligned prograde orbits):\n",
    "\n",
    "$$ \\large\n",
    "V_{\\textrm{encounter}}\\ =\\ V_{\\textrm{asteroid at 1AU}}\\ -\\ V_{\\textrm{Earth}}\n",
    "$$\n",
    "\n",
    "Where $V_{\\textrm{Earth}}\\ =\\ 30\\ \\textrm{km/s}$\n",
    "\n",
    "---\n",
    "\n",
    "## Hitting the Earth\n",
    "\n",
    "The impact speed of an asteroid hitting the Earth is:\n",
    "\n",
    "$$ \\large\n",
    "V_{\\textrm{impact}}^{2}\\ =\\ {V_{\\textrm{encounter}}^2 + V_{\\textrm{escape}}^2}\n",
    "$$\n",
    "\n",
    "Where $V_{\\textrm{escape}}\\ = 11.2\\ \\textrm{km/s}$\n"
   ]
  },
  {
   "cell_type": "markdown",
   "metadata": {},
   "source": [
    "---\n",
    "\n",
    "## Due  Mon Feb 9 (1pm)\n",
    "\n",
    " * `File -> Download as... -> HTML`\n",
    " * `Upload HTML file to Canvas`"
   ]
  },
  {
   "cell_type": "markdown",
   "metadata": {},
   "source": [
    "---\n",
    "\n",
    "## **Ravenclaw**\n",
    "\n",
    "## Determine the size of the crater each PHA would make if they impacted the surface of the Earth\n",
    "\n",
    "* Assume asteroids and the Earth's surface have a density = 3,000 kg/m$^3$\n",
    "* Read the instructions below!!!!\n",
    "  * Seriously, read the instructions below!\n",
    "  * I will ignore all questions/emails about how: *my units don't work!!!!!*\n",
    "* Add a `Crater_Size` column to the table with units"
   ]
  },
  {
   "cell_type": "code",
   "execution_count": null,
   "metadata": {
    "collapsed": false,
    "jupyter": {
     "outputs_hidden": false
    }
   },
   "outputs": [],
   "source": []
  },
  {
   "cell_type": "code",
   "execution_count": null,
   "metadata": {
    "collapsed": false,
    "jupyter": {
     "outputs_hidden": false
    }
   },
   "outputs": [],
   "source": []
  },
  {
   "cell_type": "code",
   "execution_count": null,
   "metadata": {
    "collapsed": false,
    "jupyter": {
     "outputs_hidden": false
    }
   },
   "outputs": [],
   "source": []
  },
  {
   "cell_type": "code",
   "execution_count": null,
   "metadata": {
    "collapsed": false,
    "jupyter": {
     "outputs_hidden": false
    }
   },
   "outputs": [],
   "source": []
  },
  {
   "cell_type": "markdown",
   "metadata": {},
   "source": [
    "---\n",
    "\n",
    "## Size of Crater\n",
    "\n",
    "This size of the crater formed by an impacting asteroid can be estimated by:\n",
    "\n",
    "$$ \\large\n",
    "\\textrm{Size of Crater} = 1.8\\ \\rho_{p}^{0.11}\\ \\rho_{t}^{-0.33}\\ g^{-0.22}\\ D^{0.13}\\ W^{0.22}\n",
    "$$\n",
    "\n",
    "Where\n",
    "\n",
    "* $\\rho_{p}$ is the asteroid density\n",
    "* $\\rho_{t}$ is the target density\n",
    "* $D$ is the asteroid diameter\n",
    "* $W$ is the kinetic energy of the asteroid hitting the Earth's surface\n",
    "\n",
    "### Important Note!!!!\n",
    "\n",
    "This type of equation is sometimes refered to as an *emperical scaling relation*\n",
    "\n",
    "* The units do not work out as written\n",
    "* You need to put **all variables** into the same unit system (such as [SI](https://en.wikipedia.org/wiki/International_System_of_Units))\n",
    "* Then use .value to just pull off the numerical value\n",
    "* The answer will be in whatever unit system you used (such as [SI](https://en.wikipedia.org/wiki/International_System_of_Units))"
   ]
  },
  {
   "cell_type": "code",
   "execution_count": null,
   "metadata": {
    "collapsed": false,
    "jupyter": {
     "outputs_hidden": false
    }
   },
   "outputs": [],
   "source": []
  }
 ],
 "metadata": {
  "kernelspec": {
   "display_name": "Python 3",
   "language": "python",
   "name": "python3"
  },
  "language_info": {
   "codemirror_mode": {
    "name": "ipython",
    "version": 3
   },
   "file_extension": ".py",
   "mimetype": "text/x-python",
   "name": "python",
   "nbconvert_exporter": "python",
   "pygments_lexer": "ipython3",
   "version": "3.7.5"
  }
 },
 "nbformat": 4,
 "nbformat_minor": 4
}
