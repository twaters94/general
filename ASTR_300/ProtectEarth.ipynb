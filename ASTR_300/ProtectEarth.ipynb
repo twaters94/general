{
 "cells": [
  {
   "cell_type": "markdown",
   "metadata": {},
   "source": [
    "# Protect Earth!"
   ]
  },
  {
   "cell_type": "markdown",
   "metadata": {},
   "source": [
    "---\n",
    "\n",
    "### [Astropy Units](http://docs.astropy.org/en/stable/units/index.html#module-astropy.units.si)\n",
    "\n",
    "### [Astropy Constants](https://docs.astropy.org/en/stable/constants/#module-astropy.constants)\n",
    "\n",
    "### [Numpy Math Functions](https://docs.scipy.org/doc/numpy-1.13.0/reference/routines.math.html)\n",
    "\n",
    "---"
   ]
  },
  {
   "cell_type": "code",
   "execution_count": 1,
   "metadata": {
    "collapsed": false,
    "jupyter": {
     "outputs_hidden": false
    }
   },
   "outputs": [],
   "source": [
    "import numpy as np\n",
    "import pandas as pd\n",
    "\n",
    "from astropy import units as u\n",
    "from astropy import constants as const\n",
    "from astropy.table import QTable, Table"
   ]
  },
  {
   "cell_type": "markdown",
   "metadata": {},
   "source": [
    "## Read in the dataset `./Data/PHA.csv`"
   ]
  },
  {
   "cell_type": "code",
   "execution_count": 4,
   "metadata": {
    "collapsed": false,
    "jupyter": {
     "outputs_hidden": false
    }
   },
   "outputs": [
    {
     "data": {
      "text/html": [
       "<i>QTable length=5</i>\n",
       "<table id=\"table139748228146384\" class=\"table-striped table-bordered table-condensed\">\n",
       "<thead><tr><th>Name</th><th>Semi_Major_AU</th><th>Eccentricity</th><th>Abs_Mag</th><th>Albedo</th></tr></thead>\n",
       "<thead><tr><th>str8</th><th>float64</th><th>float64</th><th>float64</th><th>float64</th></tr></thead>\n",
       "<tr><td>Khufu</td><td>0.989537560450789</td><td>0.4685174247283059</td><td>18.3</td><td>0.21</td></tr>\n",
       "<tr><td>Orpheus</td><td>1.209662179045708</td><td>0.3227518287938224</td><td>19.03</td><td>0.357</td></tr>\n",
       "<tr><td>Zephyr</td><td>1.961922094181047</td><td>0.4920120116291148</td><td>15.7</td><td>0.199</td></tr>\n",
       "<tr><td>Cuno</td><td>1.982718743264263</td><td>0.6342867024321133</td><td>14.1</td><td>0.097</td></tr>\n",
       "<tr><td>Dionysus</td><td>2.19861623099639</td><td>0.5415435918949166</td><td>16.4</td><td>0.16</td></tr>\n",
       "</table>"
      ],
      "text/plain": [
       "<QTable length=5>\n",
       "  Name     Semi_Major_AU      Eccentricity    Abs_Mag  Albedo\n",
       "  str8        float64           float64       float64 float64\n",
       "-------- ----------------- ------------------ ------- -------\n",
       "   Khufu 0.989537560450789 0.4685174247283059    18.3    0.21\n",
       " Orpheus 1.209662179045708 0.3227518287938224   19.03   0.357\n",
       "  Zephyr 1.961922094181047 0.4920120116291148    15.7   0.199\n",
       "    Cuno 1.982718743264263 0.6342867024321133    14.1   0.097\n",
       "Dionysus  2.19861623099639 0.5415435918949166    16.4    0.16"
      ]
     },
     "execution_count": 4,
     "metadata": {},
     "output_type": "execute_result"
    }
   ],
   "source": [
    "PHA_table = QTable.read('./Data/PHA.csv', format='ascii.csv')\n",
    "PHA_table"
   ]
  },
  {
   "cell_type": "markdown",
   "metadata": {},
   "source": [
    "---\n",
    "\n",
    "## Determine how many nuclear weapons, with a yield of 1 ton-TNT, will be needed to destroy each of the PHAs.\n",
    "\n",
    "* Write the functions: `find_diameter`, `find_mass`, and `number_weapons`\n",
    "* Make sure you use units.\n",
    "* Assume the PHA asteroids have a density = 3,000 kg/m$^3$\n",
    "* Add 3 columns to the data table\n",
    "\n",
    "#### For the `number_missles` function:\n",
    "\n",
    "* Express your answer in units of `Tons_TNT`\n",
    "* 1 ton TNT $= 4.18 \\times 10^9$ J"
   ]
  },
  {
   "cell_type": "markdown",
   "metadata": {},
   "source": [
    "---\n",
    "\n",
    "`find_diameter`"
   ]
  },
  {
   "cell_type": "code",
   "execution_count": 18,
   "metadata": {
    "collapsed": false,
    "jupyter": {
     "outputs_hidden": false
    }
   },
   "outputs": [],
   "source": [
    "# Write a function\n",
    "def find_diameter(mag, geo):\n",
    "    D = ((1329)*(10**(-0.2*(mag))))/(np.sqrt(geo))\n",
    "    return D*u.km"
   ]
  },
  {
   "cell_type": "code",
   "execution_count": 20,
   "metadata": {
    "collapsed": false,
    "jupyter": {
     "outputs_hidden": false
    }
   },
   "outputs": [
    {
     "data": {
      "text/latex": [
       "$[0.6344762,~0.34768894,~2.1582336,~6.4586108,~1.7436728] \\; \\mathrm{km}$"
      ],
      "text/plain": [
       "<Quantity [0.6344762 , 0.34768894, 2.15823357, 6.45861079, 1.74367279] km>"
      ]
     },
     "execution_count": 20,
     "metadata": {},
     "output_type": "execute_result"
    }
   ],
   "source": [
    "# Apply the function\n",
    "Diameter_m= find_diameter(PHA_table['Abs_Mag'], PHA_table['Albedo'])\n",
    "Diameter_m"
   ]
  },
  {
   "cell_type": "code",
   "execution_count": 21,
   "metadata": {
    "collapsed": false,
    "jupyter": {
     "outputs_hidden": false
    }
   },
   "outputs": [
    {
     "data": {
      "text/html": [
       "<i>QTable length=5</i>\n",
       "<table id=\"table139748228146384\" class=\"table-striped table-bordered table-condensed\">\n",
       "<thead><tr><th>Name</th><th>Semi_Major_AU</th><th>Eccentricity</th><th>Abs_Mag</th><th>Albedo</th><th>Diameter_km</th></tr></thead>\n",
       "<thead><tr><th></th><th></th><th></th><th></th><th></th><th>km</th></tr></thead>\n",
       "<thead><tr><th>str8</th><th>float64</th><th>float64</th><th>float64</th><th>float64</th><th>float64</th></tr></thead>\n",
       "<tr><td>Khufu</td><td>0.989537560450789</td><td>0.4685174247283059</td><td>18.3</td><td>0.21</td><td>0.6344761967444104</td></tr>\n",
       "<tr><td>Orpheus</td><td>1.209662179045708</td><td>0.3227518287938224</td><td>19.03</td><td>0.357</td><td>0.347688937525904</td></tr>\n",
       "<tr><td>Zephyr</td><td>1.961922094181047</td><td>0.4920120116291148</td><td>15.7</td><td>0.199</td><td>2.158233566515278</td></tr>\n",
       "<tr><td>Cuno</td><td>1.982718743264263</td><td>0.6342867024321133</td><td>14.1</td><td>0.097</td><td>6.458610790185056</td></tr>\n",
       "<tr><td>Dionysus</td><td>2.19861623099639</td><td>0.5415435918949166</td><td>16.4</td><td>0.16</td><td>1.74367278667987</td></tr>\n",
       "</table>"
      ],
      "text/plain": [
       "<QTable length=5>\n",
       "  Name     Semi_Major_AU      Eccentricity    Abs_Mag  Albedo    Diameter_km    \n",
       "                                                                      km        \n",
       "  str8        float64           float64       float64 float64      float64      \n",
       "-------- ----------------- ------------------ ------- ------- ------------------\n",
       "   Khufu 0.989537560450789 0.4685174247283059    18.3    0.21 0.6344761967444104\n",
       " Orpheus 1.209662179045708 0.3227518287938224   19.03   0.357  0.347688937525904\n",
       "  Zephyr 1.961922094181047 0.4920120116291148    15.7   0.199  2.158233566515278\n",
       "    Cuno 1.982718743264263 0.6342867024321133    14.1   0.097  6.458610790185056\n",
       "Dionysus  2.19861623099639 0.5415435918949166    16.4    0.16   1.74367278667987"
      ]
     },
     "execution_count": 21,
     "metadata": {},
     "output_type": "execute_result"
    }
   ],
   "source": [
    "# Add the data column to the table\n",
    "PHA_table['Diameter_km'] = Diameter_m\n",
    "PHA_table"
   ]
  },
  {
   "cell_type": "markdown",
   "metadata": {},
   "source": [
    "---\n",
    "\n",
    "`find_mass`"
   ]
  },
  {
   "cell_type": "code",
   "execution_count": 37,
   "metadata": {
    "collapsed": false,
    "jupyter": {
     "outputs_hidden": false
    }
   },
   "outputs": [],
   "source": [
    "# Write a function\n",
    "def find_mass(diameter,density):\n",
    "    M = ((density)*(np.pi)*((diameter)**3))/6\n",
    "    return M.decompose()"
   ]
  },
  {
   "cell_type": "code",
   "execution_count": 38,
   "metadata": {
    "collapsed": false,
    "jupyter": {
     "outputs_hidden": false
    }
   },
   "outputs": [],
   "source": [
    "# Apply the function\n",
    "Mass_kg = find_mass(PHA_table['Diameter_km'],3000*(u.kg/(u.m)**3))"
   ]
  },
  {
   "cell_type": "code",
   "execution_count": 39,
   "metadata": {
    "collapsed": false,
    "jupyter": {
     "outputs_hidden": false
    }
   },
   "outputs": [
    {
     "data": {
      "text/html": [
       "<i>QTable length=5</i>\n",
       "<table id=\"table139748228146384\" class=\"table-striped table-bordered table-condensed\">\n",
       "<thead><tr><th>Name</th><th>Semi_Major_AU</th><th>Eccentricity</th><th>Abs_Mag</th><th>Albedo</th><th>Diameter_km</th><th>Mass_kg</th></tr></thead>\n",
       "<thead><tr><th></th><th></th><th></th><th></th><th></th><th>km</th><th>kg</th></tr></thead>\n",
       "<thead><tr><th>str8</th><th>float64</th><th>float64</th><th>float64</th><th>float64</th><th>float64</th><th>float64</th></tr></thead>\n",
       "<tr><td>Khufu</td><td>0.989537560450789</td><td>0.4685174247283059</td><td>18.3</td><td>0.21</td><td>0.6344761967444104</td><td>401204575971.24207</td></tr>\n",
       "<tr><td>Orpheus</td><td>1.209662179045708</td><td>0.3227518287938224</td><td>19.03</td><td>0.357</td><td>0.347688937525904</td><td>66022580639.14006</td></tr>\n",
       "<tr><td>Zephyr</td><td>1.961922094181047</td><td>0.4920120116291148</td><td>15.7</td><td>0.199</td><td>2.158233566515278</td><td>15791202589205.992</td></tr>\n",
       "<tr><td>Cuno</td><td>1.982718743264263</td><td>0.6342867024321133</td><td>14.1</td><td>0.097</td><td>6.458610790185056</td><td>423191775134435.2</td></tr>\n",
       "<tr><td>Dionysus</td><td>2.19861623099639</td><td>0.5415435918949166</td><td>16.4</td><td>0.16</td><td>1.74367278667987</td><td>8327503921458.562</td></tr>\n",
       "</table>"
      ],
      "text/plain": [
       "<QTable length=5>\n",
       "  Name     Semi_Major_AU   ...    Diameter_km          Mass_kg      \n",
       "                           ...         km                 kg        \n",
       "  str8        float64      ...      float64            float64      \n",
       "-------- ----------------- ... ------------------ ------------------\n",
       "   Khufu 0.989537560450789 ... 0.6344761967444104 401204575971.24207\n",
       " Orpheus 1.209662179045708 ...  0.347688937525904  66022580639.14006\n",
       "  Zephyr 1.961922094181047 ...  2.158233566515278 15791202589205.992\n",
       "    Cuno 1.982718743264263 ...  6.458610790185056  423191775134435.2\n",
       "Dionysus  2.19861623099639 ...   1.74367278667987  8327503921458.562"
      ]
     },
     "execution_count": 39,
     "metadata": {},
     "output_type": "execute_result"
    }
   ],
   "source": [
    "# Add the data column to the table\n",
    "PHA_table['Mass_kg'] = Mass_kg\n",
    "PHA_table"
   ]
  },
  {
   "cell_type": "markdown",
   "metadata": {},
   "source": [
    "---\n",
    "\n",
    "`number_weapons`"
   ]
  },
  {
   "cell_type": "code",
   "execution_count": 46,
   "metadata": {
    "collapsed": false,
    "jupyter": {
     "outputs_hidden": false
    }
   },
   "outputs": [],
   "source": [
    "# Write a function\n",
    "TonTNT = u.def_unit(\"Tonnes TNT\", 4.18e9*u.J)\n",
    "\n",
    "def find_number(Mass, Diameter):\n",
    "    N = ((6/5)*((const.G*Mass**2)/Diameter))/(1*TonTNT)\n",
    "    return N.decompose()"
   ]
  },
  {
   "cell_type": "code",
   "execution_count": 47,
   "metadata": {
    "collapsed": false,
    "jupyter": {
     "outputs_hidden": false
    }
   },
   "outputs": [
    {
     "data": {
      "text/latex": [
       "$[4.8610167,~0.24021759,~2213.8218,~531307.58,~762.03583] \\; \\mathrm{}$"
      ],
      "text/plain": [
       "<Quantity [4.86101666e+00, 2.40217590e-01, 2.21382178e+03, 5.31307579e+05,\n",
       "           7.62035827e+02]>"
      ]
     },
     "execution_count": 47,
     "metadata": {},
     "output_type": "execute_result"
    }
   ],
   "source": [
    "# Apply the function\n",
    "Number_of_bombs = find_number(PHA_table['Mass_kg'],PHA_table['Diameter_km']) \n",
    "Number_of_bombs"
   ]
  },
  {
   "cell_type": "code",
   "execution_count": 50,
   "metadata": {
    "collapsed": false,
    "jupyter": {
     "outputs_hidden": false
    }
   },
   "outputs": [
    {
     "data": {
      "text/html": [
       "<i>QTable length=5</i>\n",
       "<table id=\"table139748228146384\" class=\"table-striped table-bordered table-condensed\">\n",
       "<thead><tr><th>Name</th><th>Semi_Major_AU</th><th>Eccentricity</th><th>Abs_Mag</th><th>Albedo</th><th>Diameter_km</th><th>Mass_kg</th><th>Number_of_Bombs</th></tr></thead>\n",
       "<thead><tr><th></th><th></th><th></th><th></th><th></th><th>km</th><th>kg</th><th></th></tr></thead>\n",
       "<thead><tr><th>str8</th><th>float64</th><th>float64</th><th>float64</th><th>float64</th><th>float64</th><th>float64</th><th>float64</th></tr></thead>\n",
       "<tr><td>Khufu</td><td>0.989537560450789</td><td>0.4685174247283059</td><td>18.3</td><td>0.21</td><td>0.6344761967444104</td><td>401204575971.24207</td><td>4.861016663911411</td></tr>\n",
       "<tr><td>Orpheus</td><td>1.209662179045708</td><td>0.3227518287938224</td><td>19.03</td><td>0.357</td><td>0.347688937525904</td><td>66022580639.14006</td><td>0.2402175904745984</td></tr>\n",
       "<tr><td>Zephyr</td><td>1.961922094181047</td><td>0.4920120116291148</td><td>15.7</td><td>0.199</td><td>2.158233566515278</td><td>15791202589205.992</td><td>2213.8217793738318</td></tr>\n",
       "<tr><td>Cuno</td><td>1.982718743264263</td><td>0.6342867024321133</td><td>14.1</td><td>0.097</td><td>6.458610790185056</td><td>423191775134435.2</td><td>531307.57894846</td></tr>\n",
       "<tr><td>Dionysus</td><td>2.19861623099639</td><td>0.5415435918949166</td><td>16.4</td><td>0.16</td><td>1.74367278667987</td><td>8327503921458.562</td><td>762.0358269211135</td></tr>\n",
       "</table>"
      ],
      "text/plain": [
       "<QTable length=5>\n",
       "  Name     Semi_Major_AU   ...      Mass_kg        Number_of_Bombs  \n",
       "                           ...         kg                           \n",
       "  str8        float64      ...      float64            float64      \n",
       "-------- ----------------- ... ------------------ ------------------\n",
       "   Khufu 0.989537560450789 ... 401204575971.24207  4.861016663911411\n",
       " Orpheus 1.209662179045708 ...  66022580639.14006 0.2402175904745984\n",
       "  Zephyr 1.961922094181047 ... 15791202589205.992 2213.8217793738318\n",
       "    Cuno 1.982718743264263 ...  423191775134435.2    531307.57894846\n",
       "Dionysus  2.19861623099639 ...  8327503921458.562  762.0358269211135"
      ]
     },
     "execution_count": 50,
     "metadata": {},
     "output_type": "execute_result"
    }
   ],
   "source": [
    "# Add the data column to the table\n",
    "PHA_table['Number_of_Bombs'] = Number_of_bombs\n",
    "PHA_table"
   ]
  },
  {
   "cell_type": "markdown",
   "metadata": {},
   "source": [
    "## Save the table to a file!\n",
    "\n",
    "* This is the file to upload to Canvas"
   ]
  },
  {
   "cell_type": "code",
   "execution_count": 52,
   "metadata": {
    "collapsed": false,
    "jupyter": {
     "outputs_hidden": false
    }
   },
   "outputs": [],
   "source": [
    "PHA_table.write('./Data/PHA_QTable_ThomasWaters.ecsv', format='ascii.ecsv')"
   ]
  },
  {
   "cell_type": "markdown",
   "metadata": {},
   "source": [
    "---"
   ]
  },
  {
   "cell_type": "markdown",
   "metadata": {},
   "source": [
    "## Blowing up an asteroid\n",
    "\n",
    "The self gravitational potential energy of a uniform sphere of mass (M) and diameter (D) is:\n",
    "\n",
    "$$ \\large\n",
    "PE \\ = \\ \\frac{6}{5} \\cdot \\frac{GM^2}{D}\n",
    "$$\n",
    "\n",
    "This is the amount of energy you need to give the sphere to move all of its components pieces infinitely far away (i.e. to destroy it!).\n",
    "\n",
    "Remember that the mass and diameter of the asteroid are derived from its **absolute magnitude**, **albedo**, and **density**."
   ]
  },
  {
   "cell_type": "markdown",
   "metadata": {},
   "source": [
    "---\n",
    "\n",
    "## Due Wed Feb 4 (1pm)\n",
    "\n",
    " * `Upload your SAVED TABLE file to Canvas!`"
   ]
  }
 ],
 "metadata": {
  "kernelspec": {
   "display_name": "Python 3",
   "language": "python",
   "name": "python3"
  },
  "language_info": {
   "codemirror_mode": {
    "name": "ipython",
    "version": 3
   },
   "file_extension": ".py",
   "mimetype": "text/x-python",
   "name": "python",
   "nbconvert_exporter": "python",
   "pygments_lexer": "ipython3",
   "version": "3.7.5"
  }
 },
 "nbformat": 4,
 "nbformat_minor": 4
}
