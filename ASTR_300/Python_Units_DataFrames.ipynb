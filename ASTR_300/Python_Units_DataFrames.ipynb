{
 "cells": [
  {
   "cell_type": "markdown",
   "metadata": {},
   "source": [
    "# `DataFrames`, `QTables`, and units"
   ]
  },
  {
   "cell_type": "code",
   "execution_count": 1,
   "metadata": {
    "collapsed": false,
    "jupyter": {
     "outputs_hidden": false
    }
   },
   "outputs": [],
   "source": [
    "import numpy as np\n",
    "import pandas as pd\n",
    "\n",
    "from astropy import units as u\n",
    "from astropy import constants as const"
   ]
  },
  {
   "cell_type": "code",
   "execution_count": 2,
   "metadata": {
    "collapsed": false,
    "jupyter": {
     "outputs_hidden": false
    }
   },
   "outputs": [
    {
     "data": {
      "text/plain": [
       "'4.0'"
      ]
     },
     "execution_count": 2,
     "metadata": {},
     "output_type": "execute_result"
    }
   ],
   "source": [
    "import astropy\n",
    "\n",
    "astropy.__version__"
   ]
  },
  {
   "cell_type": "code",
   "execution_count": 3,
   "metadata": {
    "collapsed": false,
    "jupyter": {
     "outputs_hidden": false
    }
   },
   "outputs": [],
   "source": [
    "comet_table = pd.read_csv('./Data/Comets.csv')"
   ]
  },
  {
   "cell_type": "code",
   "execution_count": 4,
   "metadata": {
    "collapsed": false,
    "jupyter": {
     "outputs_hidden": false
    }
   },
   "outputs": [
    {
     "data": {
      "text/html": [
       "<div>\n",
       "<style scoped>\n",
       "    .dataframe tbody tr th:only-of-type {\n",
       "        vertical-align: middle;\n",
       "    }\n",
       "\n",
       "    .dataframe tbody tr th {\n",
       "        vertical-align: top;\n",
       "    }\n",
       "\n",
       "    .dataframe thead th {\n",
       "        text-align: right;\n",
       "    }\n",
       "</style>\n",
       "<table border=\"1\" class=\"dataframe\">\n",
       "  <thead>\n",
       "    <tr style=\"text-align: right;\">\n",
       "      <th></th>\n",
       "      <th>Name</th>\n",
       "      <th>Semi_Major_AU</th>\n",
       "      <th>Eccentricity</th>\n",
       "    </tr>\n",
       "  </thead>\n",
       "  <tbody>\n",
       "    <tr>\n",
       "      <th>0</th>\n",
       "      <td>1P/Halley</td>\n",
       "      <td>17.834144</td>\n",
       "      <td>0.967143</td>\n",
       "    </tr>\n",
       "    <tr>\n",
       "      <th>1</th>\n",
       "      <td>2P/Encke</td>\n",
       "      <td>2.215141</td>\n",
       "      <td>0.848336</td>\n",
       "    </tr>\n",
       "    <tr>\n",
       "      <th>2</th>\n",
       "      <td>3D/Biela</td>\n",
       "      <td>3.534658</td>\n",
       "      <td>0.751299</td>\n",
       "    </tr>\n",
       "    <tr>\n",
       "      <th>3</th>\n",
       "      <td>4P/Faye</td>\n",
       "      <td>3.838159</td>\n",
       "      <td>0.569618</td>\n",
       "    </tr>\n",
       "  </tbody>\n",
       "</table>\n",
       "</div>"
      ],
      "text/plain": [
       "        Name  Semi_Major_AU  Eccentricity\n",
       "0  1P/Halley      17.834144      0.967143\n",
       "1   2P/Encke       2.215141      0.848336\n",
       "2   3D/Biela       3.534658      0.751299\n",
       "3    4P/Faye       3.838159      0.569618"
      ]
     },
     "execution_count": 4,
     "metadata": {},
     "output_type": "execute_result"
    }
   ],
   "source": [
    "comet_table"
   ]
  },
  {
   "cell_type": "markdown",
   "metadata": {},
   "source": [
    "### `DataFrames` and units - An Example\n",
    "\n",
    "* Use `.values` to pull data out of `DataFrame`\n",
    "* Then add the units"
   ]
  },
  {
   "cell_type": "code",
   "execution_count": 5,
   "metadata": {
    "collapsed": false,
    "jupyter": {
     "outputs_hidden": false
    }
   },
   "outputs": [],
   "source": [
    "semi_major = comet_table['Semi_Major_AU'].values * u.AU"
   ]
  },
  {
   "cell_type": "code",
   "execution_count": 6,
   "metadata": {
    "collapsed": false,
    "jupyter": {
     "outputs_hidden": false
    }
   },
   "outputs": [
    {
     "data": {
      "text/latex": [
       "$[17.834144,~2.2151413,~3.5346581,~3.8381592] \\; \\mathrm{AU}$"
      ],
      "text/plain": [
       "<Quantity [17.83414429,  2.21514129,  3.53465808,  3.83815916] AU>"
      ]
     },
     "execution_count": 6,
     "metadata": {},
     "output_type": "execute_result"
    }
   ],
   "source": [
    "semi_major"
   ]
  },
  {
   "cell_type": "code",
   "execution_count": 7,
   "metadata": {
    "collapsed": false,
    "jupyter": {
     "outputs_hidden": false
    }
   },
   "outputs": [
    {
     "data": {
      "text/latex": [
       "$[2.66795 \\times 10^{9},~3.3138042 \\times 10^{8},~5.2877732 \\times 10^{8},~5.7418044 \\times 10^{8}] \\; \\mathrm{km}$"
      ],
      "text/plain": [
       "<Quantity [2.66795001e+09, 3.31380421e+08, 5.28777323e+08, 5.74180437e+08] km>"
      ]
     },
     "execution_count": 7,
     "metadata": {},
     "output_type": "execute_result"
    }
   ],
   "source": [
    "semi_major.to(u.km)"
   ]
  },
  {
   "cell_type": "code",
   "execution_count": 8,
   "metadata": {
    "collapsed": false,
    "jupyter": {
     "outputs_hidden": false
    }
   },
   "outputs": [],
   "source": [
    "comet_table['Semi_Major_km'] = semi_major.to(u.km)"
   ]
  },
  {
   "cell_type": "code",
   "execution_count": 9,
   "metadata": {
    "collapsed": false,
    "jupyter": {
     "outputs_hidden": false
    }
   },
   "outputs": [
    {
     "data": {
      "text/html": [
       "<div>\n",
       "<style scoped>\n",
       "    .dataframe tbody tr th:only-of-type {\n",
       "        vertical-align: middle;\n",
       "    }\n",
       "\n",
       "    .dataframe tbody tr th {\n",
       "        vertical-align: top;\n",
       "    }\n",
       "\n",
       "    .dataframe thead th {\n",
       "        text-align: right;\n",
       "    }\n",
       "</style>\n",
       "<table border=\"1\" class=\"dataframe\">\n",
       "  <thead>\n",
       "    <tr style=\"text-align: right;\">\n",
       "      <th></th>\n",
       "      <th>Name</th>\n",
       "      <th>Semi_Major_AU</th>\n",
       "      <th>Eccentricity</th>\n",
       "      <th>Semi_Major_km</th>\n",
       "    </tr>\n",
       "  </thead>\n",
       "  <tbody>\n",
       "    <tr>\n",
       "      <th>0</th>\n",
       "      <td>1P/Halley</td>\n",
       "      <td>17.834144</td>\n",
       "      <td>0.967143</td>\n",
       "      <td>2.667950e+09</td>\n",
       "    </tr>\n",
       "    <tr>\n",
       "      <th>1</th>\n",
       "      <td>2P/Encke</td>\n",
       "      <td>2.215141</td>\n",
       "      <td>0.848336</td>\n",
       "      <td>3.313804e+08</td>\n",
       "    </tr>\n",
       "    <tr>\n",
       "      <th>2</th>\n",
       "      <td>3D/Biela</td>\n",
       "      <td>3.534658</td>\n",
       "      <td>0.751299</td>\n",
       "      <td>5.287773e+08</td>\n",
       "    </tr>\n",
       "    <tr>\n",
       "      <th>3</th>\n",
       "      <td>4P/Faye</td>\n",
       "      <td>3.838159</td>\n",
       "      <td>0.569618</td>\n",
       "      <td>5.741804e+08</td>\n",
       "    </tr>\n",
       "  </tbody>\n",
       "</table>\n",
       "</div>"
      ],
      "text/plain": [
       "        Name  Semi_Major_AU  Eccentricity  Semi_Major_km\n",
       "0  1P/Halley      17.834144      0.967143   2.667950e+09\n",
       "1   2P/Encke       2.215141      0.848336   3.313804e+08\n",
       "2   3D/Biela       3.534658      0.751299   5.287773e+08\n",
       "3    4P/Faye       3.838159      0.569618   5.741804e+08"
      ]
     },
     "execution_count": 9,
     "metadata": {},
     "output_type": "execute_result"
    }
   ],
   "source": [
    "comet_table"
   ]
  },
  {
   "cell_type": "markdown",
   "metadata": {},
   "source": [
    "#### Pull out `.values` and assign units everytime you want to use them.\n",
    "\n",
    "* Even with dimensionless units (like `Eccentricity`)."
   ]
  },
  {
   "cell_type": "code",
   "execution_count": 10,
   "metadata": {
    "collapsed": false,
    "jupyter": {
     "outputs_hidden": false
    }
   },
   "outputs": [],
   "source": [
    "def find_perihelion(semi_major, eccentricity):\n",
    "    result = semi_major * (1.0 - eccentricity)\n",
    "    return result"
   ]
  },
  {
   "cell_type": "code",
   "execution_count": 11,
   "metadata": {
    "collapsed": false,
    "jupyter": {
     "outputs_hidden": false
    }
   },
   "outputs": [
    {
     "data": {
      "text/latex": [
       "$[17.834144,~2.2151413,~3.5346581,~3.8381592] \\; \\mathrm{AU}$"
      ],
      "text/plain": [
       "<Quantity [17.83414429,  2.21514129,  3.53465808,  3.83815916] AU>"
      ]
     },
     "execution_count": 11,
     "metadata": {},
     "output_type": "execute_result"
    }
   ],
   "source": [
    "my_semi_major = comet_table['Semi_Major_AU'].values * u.AU\n",
    "\n",
    "my_semi_major"
   ]
  },
  {
   "cell_type": "code",
   "execution_count": 12,
   "metadata": {
    "collapsed": false,
    "jupyter": {
     "outputs_hidden": false
    }
   },
   "outputs": [
    {
     "data": {
      "text/latex": [
       "$[0.96714291,~0.84833603,~0.751299,~0.56961755] \\; \\mathrm{}$"
      ],
      "text/plain": [
       "<Quantity [0.96714291, 0.84833603, 0.751299  , 0.56961755]>"
      ]
     },
     "execution_count": 12,
     "metadata": {},
     "output_type": "execute_result"
    }
   ],
   "source": [
    "my_ecc = comet_table['Eccentricity'].values * u.dimensionless_unscaled\n",
    "\n",
    "my_ecc"
   ]
  },
  {
   "cell_type": "code",
   "execution_count": 13,
   "metadata": {
    "collapsed": false,
    "jupyter": {
     "outputs_hidden": false
    }
   },
   "outputs": [
    {
     "data": {
      "text/latex": [
       "$[0.58597811,~0.33595713,~0.879073,~1.6518763] \\; \\mathrm{AU}$"
      ],
      "text/plain": [
       "<Quantity [0.58597811, 0.33595713, 0.879073  , 1.65187634] AU>"
      ]
     },
     "execution_count": 13,
     "metadata": {},
     "output_type": "execute_result"
    }
   ],
   "source": [
    "perihelion_AU = find_perihelion(my_semi_major, my_ecc)\n",
    "\n",
    "perihelion_AU"
   ]
  },
  {
   "cell_type": "code",
   "execution_count": 14,
   "metadata": {
    "collapsed": false,
    "jupyter": {
     "outputs_hidden": false
    }
   },
   "outputs": [],
   "source": [
    "comet_table['Perihelion_AU'] = perihelion_AU"
   ]
  },
  {
   "cell_type": "code",
   "execution_count": 15,
   "metadata": {
    "collapsed": false,
    "jupyter": {
     "outputs_hidden": false
    }
   },
   "outputs": [
    {
     "data": {
      "text/html": [
       "<div>\n",
       "<style scoped>\n",
       "    .dataframe tbody tr th:only-of-type {\n",
       "        vertical-align: middle;\n",
       "    }\n",
       "\n",
       "    .dataframe tbody tr th {\n",
       "        vertical-align: top;\n",
       "    }\n",
       "\n",
       "    .dataframe thead th {\n",
       "        text-align: right;\n",
       "    }\n",
       "</style>\n",
       "<table border=\"1\" class=\"dataframe\">\n",
       "  <thead>\n",
       "    <tr style=\"text-align: right;\">\n",
       "      <th></th>\n",
       "      <th>Name</th>\n",
       "      <th>Semi_Major_AU</th>\n",
       "      <th>Eccentricity</th>\n",
       "      <th>Semi_Major_km</th>\n",
       "      <th>Perihelion_AU</th>\n",
       "    </tr>\n",
       "  </thead>\n",
       "  <tbody>\n",
       "    <tr>\n",
       "      <th>0</th>\n",
       "      <td>1P/Halley</td>\n",
       "      <td>17.834144</td>\n",
       "      <td>0.967143</td>\n",
       "      <td>2.667950e+09</td>\n",
       "      <td>0.585978</td>\n",
       "    </tr>\n",
       "    <tr>\n",
       "      <th>1</th>\n",
       "      <td>2P/Encke</td>\n",
       "      <td>2.215141</td>\n",
       "      <td>0.848336</td>\n",
       "      <td>3.313804e+08</td>\n",
       "      <td>0.335957</td>\n",
       "    </tr>\n",
       "    <tr>\n",
       "      <th>2</th>\n",
       "      <td>3D/Biela</td>\n",
       "      <td>3.534658</td>\n",
       "      <td>0.751299</td>\n",
       "      <td>5.287773e+08</td>\n",
       "      <td>0.879073</td>\n",
       "    </tr>\n",
       "    <tr>\n",
       "      <th>3</th>\n",
       "      <td>4P/Faye</td>\n",
       "      <td>3.838159</td>\n",
       "      <td>0.569618</td>\n",
       "      <td>5.741804e+08</td>\n",
       "      <td>1.651876</td>\n",
       "    </tr>\n",
       "  </tbody>\n",
       "</table>\n",
       "</div>"
      ],
      "text/plain": [
       "        Name  Semi_Major_AU  Eccentricity  Semi_Major_km  Perihelion_AU\n",
       "0  1P/Halley      17.834144      0.967143   2.667950e+09       0.585978\n",
       "1   2P/Encke       2.215141      0.848336   3.313804e+08       0.335957\n",
       "2   3D/Biela       3.534658      0.751299   5.287773e+08       0.879073\n",
       "3    4P/Faye       3.838159      0.569618   5.741804e+08       1.651876"
      ]
     },
     "execution_count": 15,
     "metadata": {},
     "output_type": "execute_result"
    }
   ],
   "source": [
    "comet_table"
   ]
  },
  {
   "cell_type": "markdown",
   "metadata": {},
   "source": [
    "##### Save `comet_table` to a file (`.csv`)"
   ]
  },
  {
   "cell_type": "code",
   "execution_count": 16,
   "metadata": {
    "collapsed": false,
    "jupyter": {
     "outputs_hidden": false
    }
   },
   "outputs": [],
   "source": [
    "comet_table.to_csv('./Data/Comet_DataFrame.csv', index=False)"
   ]
  },
  {
   "cell_type": "markdown",
   "metadata": {},
   "source": [
    "---\n",
    "\n",
    "# `DataFrames` and units\n",
    "\n",
    " * `DatFrames` and units do not play together well\n",
    " * Using a `DataFrame` and units requires you to:\n",
    "   * Pull out `.values` and assign units everytime you want to use them.\n",
    "   * `comet_table['Semi_Major_AU'].values * u.AU`\n",
    "   * The to save your results, without units, back to the table\n",
    "   * `comet_table['Perihelion_AU'] = perihelion_AU`"
   ]
  },
  {
   "cell_type": "markdown",
   "metadata": {},
   "source": [
    "---\n",
    "\n",
    "# Astropy `QTable`\n",
    "\n",
    "* A `QTable` = a table with units!\n",
    "* Does not have the huge number of `.methods` of a `DataFrame`\n",
    "* Mostly **only** used by Astronomers\n",
    "* Can be easily converted to a `DataFrame`"
   ]
  },
  {
   "cell_type": "code",
   "execution_count": 17,
   "metadata": {
    "collapsed": false,
    "jupyter": {
     "outputs_hidden": false
    }
   },
   "outputs": [],
   "source": [
    "from astropy.table import QTable, Table"
   ]
  },
  {
   "cell_type": "code",
   "execution_count": 18,
   "metadata": {
    "collapsed": false,
    "jupyter": {
     "outputs_hidden": false
    }
   },
   "outputs": [],
   "source": [
    "comet_table = QTable.read('./Data/Comets.csv', format='ascii.csv')"
   ]
  },
  {
   "cell_type": "code",
   "execution_count": 19,
   "metadata": {
    "collapsed": false,
    "jupyter": {
     "outputs_hidden": false
    }
   },
   "outputs": [
    {
     "data": {
      "text/html": [
       "<i>QTable length=4</i>\n",
       "<table id=\"table139781325600144\" class=\"table-striped table-bordered table-condensed\">\n",
       "<thead><tr><th>Name</th><th>Semi_Major_AU</th><th>Eccentricity</th></tr></thead>\n",
       "<thead><tr><th>str9</th><th>float64</th><th>float64</th></tr></thead>\n",
       "<tr><td>1P/Halley</td><td>17.8341442925537</td><td>0.967142908462304</td></tr>\n",
       "<tr><td>2P/Encke</td><td>2.215141293583404</td><td>0.8483360282890077</td></tr>\n",
       "<tr><td>3D/Biela</td><td>3.53465808340135</td><td>0.751299</td></tr>\n",
       "<tr><td>4P/Faye</td><td>3.83815915788662</td><td>0.5696175496849397</td></tr>\n",
       "</table>"
      ],
      "text/plain": [
       "<QTable length=4>\n",
       "   Name     Semi_Major_AU      Eccentricity   \n",
       "   str9        float64           float64      \n",
       "--------- ----------------- ------------------\n",
       "1P/Halley  17.8341442925537  0.967142908462304\n",
       " 2P/Encke 2.215141293583404 0.8483360282890077\n",
       " 3D/Biela  3.53465808340135           0.751299\n",
       "  4P/Faye  3.83815915788662 0.5696175496849397"
      ]
     },
     "execution_count": 19,
     "metadata": {},
     "output_type": "execute_result"
    }
   ],
   "source": [
    "comet_table"
   ]
  },
  {
   "cell_type": "markdown",
   "metadata": {},
   "source": [
    "#### Adding a unit to a column"
   ]
  },
  {
   "cell_type": "code",
   "execution_count": 20,
   "metadata": {
    "collapsed": false,
    "jupyter": {
     "outputs_hidden": false
    }
   },
   "outputs": [],
   "source": [
    "comet_table['Semi_Major_AU'].unit = u.AU"
   ]
  },
  {
   "cell_type": "code",
   "execution_count": 21,
   "metadata": {
    "collapsed": false,
    "jupyter": {
     "outputs_hidden": false
    }
   },
   "outputs": [
    {
     "data": {
      "text/html": [
       "<i>QTable length=4</i>\n",
       "<table id=\"table139781325600144\" class=\"table-striped table-bordered table-condensed\">\n",
       "<thead><tr><th>Name</th><th>Semi_Major_AU</th><th>Eccentricity</th></tr></thead>\n",
       "<thead><tr><th></th><th>AU</th><th></th></tr></thead>\n",
       "<thead><tr><th>str9</th><th>float64</th><th>float64</th></tr></thead>\n",
       "<tr><td>1P/Halley</td><td>17.8341442925537</td><td>0.967142908462304</td></tr>\n",
       "<tr><td>2P/Encke</td><td>2.215141293583404</td><td>0.8483360282890077</td></tr>\n",
       "<tr><td>3D/Biela</td><td>3.53465808340135</td><td>0.751299</td></tr>\n",
       "<tr><td>4P/Faye</td><td>3.83815915788662</td><td>0.5696175496849397</td></tr>\n",
       "</table>"
      ],
      "text/plain": [
       "<QTable length=4>\n",
       "   Name     Semi_Major_AU      Eccentricity   \n",
       "                  AU                          \n",
       "   str9        float64           float64      \n",
       "--------- ----------------- ------------------\n",
       "1P/Halley  17.8341442925537  0.967142908462304\n",
       " 2P/Encke 2.215141293583404 0.8483360282890077\n",
       " 3D/Biela  3.53465808340135           0.751299\n",
       "  4P/Faye  3.83815915788662 0.5696175496849397"
      ]
     },
     "execution_count": 21,
     "metadata": {},
     "output_type": "execute_result"
    }
   ],
   "source": [
    "comet_table"
   ]
  },
  {
   "cell_type": "code",
   "execution_count": 22,
   "metadata": {
    "collapsed": false,
    "jupyter": {
     "outputs_hidden": false
    }
   },
   "outputs": [
    {
     "data": {
      "text/latex": [
       "$[17.834144,~2.2151413,~3.5346581,~3.8381592] \\; \\mathrm{AU}$"
      ],
      "text/plain": [
       "<Quantity [17.83414429,  2.21514129,  3.53465808,  3.83815916] AU>"
      ]
     },
     "execution_count": 22,
     "metadata": {},
     "output_type": "execute_result"
    }
   ],
   "source": [
    "comet_table['Semi_Major_AU']"
   ]
  },
  {
   "cell_type": "code",
   "execution_count": 23,
   "metadata": {
    "collapsed": false,
    "jupyter": {
     "outputs_hidden": false
    }
   },
   "outputs": [
    {
     "data": {
      "text/latex": [
       "$[2.66795 \\times 10^{9},~3.3138042 \\times 10^{8},~5.2877732 \\times 10^{8},~5.7418044 \\times 10^{8}] \\; \\mathrm{km}$"
      ],
      "text/plain": [
       "<Quantity [2.66795001e+09, 3.31380421e+08, 5.28777323e+08, 5.74180437e+08] km>"
      ]
     },
     "execution_count": 23,
     "metadata": {},
     "output_type": "execute_result"
    }
   ],
   "source": [
    "comet_table['Semi_Major_AU'].to(u.km)"
   ]
  },
  {
   "cell_type": "code",
   "execution_count": 24,
   "metadata": {
    "collapsed": false,
    "jupyter": {
     "outputs_hidden": false
    }
   },
   "outputs": [
    {
     "data": {
      "text/latex": [
       "$\\mathrm{AU}$"
      ],
      "text/plain": [
       "Unit(\"AU\")"
      ]
     },
     "execution_count": 24,
     "metadata": {},
     "output_type": "execute_result"
    }
   ],
   "source": [
    "comet_table['Semi_Major_AU'].unit"
   ]
  },
  {
   "cell_type": "markdown",
   "metadata": {},
   "source": [
    "##### `QTables` use `.value` to access the value of a column (not the pandas `.values`)"
   ]
  },
  {
   "cell_type": "code",
   "execution_count": 25,
   "metadata": {
    "collapsed": false,
    "jupyter": {
     "outputs_hidden": false
    }
   },
   "outputs": [
    {
     "data": {
      "text/plain": [
       "array([17.83414429,  2.21514129,  3.53465808,  3.83815916])"
      ]
     },
     "execution_count": 25,
     "metadata": {},
     "output_type": "execute_result"
    }
   ],
   "source": [
    "comet_table['Semi_Major_AU'].value"
   ]
  },
  {
   "cell_type": "code",
   "execution_count": 26,
   "metadata": {
    "collapsed": false,
    "jupyter": {
     "outputs_hidden": false
    }
   },
   "outputs": [],
   "source": [
    "def find_perihelion(semi_major, eccentricity):\n",
    "    result = semi_major * (1.0 - eccentricity)\n",
    "    return result"
   ]
  },
  {
   "cell_type": "code",
   "execution_count": 27,
   "metadata": {
    "collapsed": false,
    "jupyter": {
     "outputs_hidden": false
    }
   },
   "outputs": [
    {
     "data": {
      "text/latex": [
       "$[0.58597811,~0.33595713,~0.879073,~1.6518763] \\; \\mathrm{AU}$"
      ],
      "text/plain": [
       "<Quantity [0.58597811, 0.33595713, 0.879073  , 1.65187634] AU>"
      ]
     },
     "execution_count": 27,
     "metadata": {},
     "output_type": "execute_result"
    }
   ],
   "source": [
    "find_perihelion(comet_table['Semi_Major_AU'], comet_table['Eccentricity'])"
   ]
  },
  {
   "cell_type": "code",
   "execution_count": 28,
   "metadata": {
    "collapsed": false,
    "jupyter": {
     "outputs_hidden": false
    }
   },
   "outputs": [],
   "source": [
    "comet_table['Perihelion'] = find_perihelion(comet_table['Semi_Major_AU'], comet_table['Eccentricity'])"
   ]
  },
  {
   "cell_type": "code",
   "execution_count": 29,
   "metadata": {
    "collapsed": false,
    "jupyter": {
     "outputs_hidden": false
    }
   },
   "outputs": [
    {
     "data": {
      "text/html": [
       "<i>QTable length=4</i>\n",
       "<table id=\"table139781325600144\" class=\"table-striped table-bordered table-condensed\">\n",
       "<thead><tr><th>Name</th><th>Semi_Major_AU</th><th>Eccentricity</th><th>Perihelion</th></tr></thead>\n",
       "<thead><tr><th></th><th>AU</th><th></th><th>AU</th></tr></thead>\n",
       "<thead><tr><th>str9</th><th>float64</th><th>float64</th><th>float64</th></tr></thead>\n",
       "<tr><td>1P/Halley</td><td>17.8341442925537</td><td>0.967142908462304</td><td>0.5859781115169156</td></tr>\n",
       "<tr><td>2P/Encke</td><td>2.215141293583404</td><td>0.8483360282890077</td><td>0.3359571264858843</td></tr>\n",
       "<tr><td>3D/Biela</td><td>3.53465808340135</td><td>0.751299</td><td>0.879072999999999</td></tr>\n",
       "<tr><td>4P/Faye</td><td>3.83815915788662</td><td>0.5696175496849397</td><td>1.6518763430704317</td></tr>\n",
       "</table>"
      ],
      "text/plain": [
       "<QTable length=4>\n",
       "   Name     Semi_Major_AU      Eccentricity        Perihelion    \n",
       "                  AU                                   AU        \n",
       "   str9        float64           float64            float64      \n",
       "--------- ----------------- ------------------ ------------------\n",
       "1P/Halley  17.8341442925537  0.967142908462304 0.5859781115169156\n",
       " 2P/Encke 2.215141293583404 0.8483360282890077 0.3359571264858843\n",
       " 3D/Biela  3.53465808340135           0.751299  0.879072999999999\n",
       "  4P/Faye  3.83815915788662 0.5696175496849397 1.6518763430704317"
      ]
     },
     "execution_count": 29,
     "metadata": {},
     "output_type": "execute_result"
    }
   ],
   "source": [
    "comet_table"
   ]
  },
  {
   "cell_type": "code",
   "execution_count": 30,
   "metadata": {
    "collapsed": false,
    "jupyter": {
     "outputs_hidden": false
    }
   },
   "outputs": [
    {
     "data": {
      "text/latex": [
       "$[87661078,~50258471,~1.3150745 \\times 10^{8},~2.4711718 \\times 10^{8}] \\; \\mathrm{km}$"
      ],
      "text/plain": [
       "<Quantity [8.76610778e+07, 5.02584708e+07, 1.31507449e+08, 2.47117184e+08] km>"
      ]
     },
     "execution_count": 30,
     "metadata": {},
     "output_type": "execute_result"
    }
   ],
   "source": [
    "comet_table['Perihelion'].to(u.km)"
   ]
  },
  {
   "cell_type": "code",
   "execution_count": 31,
   "metadata": {
    "collapsed": false,
    "jupyter": {
     "outputs_hidden": false
    }
   },
   "outputs": [],
   "source": [
    "comet_table['Perihelion'].info.format = '.2f'"
   ]
  },
  {
   "cell_type": "code",
   "execution_count": 32,
   "metadata": {
    "collapsed": false,
    "jupyter": {
     "outputs_hidden": false
    }
   },
   "outputs": [
    {
     "data": {
      "text/html": [
       "<i>QTable length=4</i>\n",
       "<table id=\"table139781325600144\" class=\"table-striped table-bordered table-condensed\">\n",
       "<thead><tr><th>Name</th><th>Semi_Major_AU</th><th>Eccentricity</th><th>Perihelion</th></tr></thead>\n",
       "<thead><tr><th></th><th>AU</th><th></th><th>AU</th></tr></thead>\n",
       "<thead><tr><th>str9</th><th>float64</th><th>float64</th><th>float64</th></tr></thead>\n",
       "<tr><td>1P/Halley</td><td>17.8341442925537</td><td>0.967142908462304</td><td>0.59</td></tr>\n",
       "<tr><td>2P/Encke</td><td>2.215141293583404</td><td>0.8483360282890077</td><td>0.34</td></tr>\n",
       "<tr><td>3D/Biela</td><td>3.53465808340135</td><td>0.751299</td><td>0.88</td></tr>\n",
       "<tr><td>4P/Faye</td><td>3.83815915788662</td><td>0.5696175496849397</td><td>1.65</td></tr>\n",
       "</table>"
      ],
      "text/plain": [
       "<QTable length=4>\n",
       "   Name     Semi_Major_AU      Eccentricity    Perihelion\n",
       "                  AU                               AU    \n",
       "   str9        float64           float64        float64  \n",
       "--------- ----------------- ------------------ ----------\n",
       "1P/Halley  17.8341442925537  0.967142908462304       0.59\n",
       " 2P/Encke 2.215141293583404 0.8483360282890077       0.34\n",
       " 3D/Biela  3.53465808340135           0.751299       0.88\n",
       "  4P/Faye  3.83815915788662 0.5696175496849397       1.65"
      ]
     },
     "execution_count": 32,
     "metadata": {},
     "output_type": "execute_result"
    }
   ],
   "source": [
    "comet_table"
   ]
  },
  {
   "cell_type": "code",
   "execution_count": 33,
   "metadata": {
    "collapsed": false,
    "jupyter": {
     "outputs_hidden": false
    }
   },
   "outputs": [
    {
     "name": "stdout",
     "output_type": "stream",
     "text": [
      "<QTable length=4>\n",
      "     name      dtype  unit format  class  \n",
      "------------- ------- ---- ------ --------\n",
      "         Name    str9               Column\n",
      "Semi_Major_AU float64   AU        Quantity\n",
      " Eccentricity float64               Column\n",
      "   Perihelion float64   AU    .2f Quantity\n"
     ]
    }
   ],
   "source": [
    "comet_table.info()"
   ]
  },
  {
   "cell_type": "code",
   "execution_count": 34,
   "metadata": {
    "collapsed": false,
    "jupyter": {
     "outputs_hidden": false
    }
   },
   "outputs": [
    {
     "name": "stdout",
     "output_type": "stream",
     "text": [
      "The comet 1P/Halley has a peihelion distance of 8.7661e+07 km\n",
      "The comet 2P/Encke  has a peihelion distance of 5.0258e+07 km\n",
      "The comet 3D/Biela  has a peihelion distance of 1.3151e+08 km\n",
      "The comet 4P/Faye   has a peihelion distance of 2.4712e+08 km\n"
     ]
    }
   ],
   "source": [
    "for row in comet_table:\n",
    "    output = f\"The comet {row['Name']:9} has a peihelion distance of {row['Perihelion'].to(u.km):.4e}\"\n",
    "    print(output)"
   ]
  },
  {
   "cell_type": "markdown",
   "metadata": {},
   "source": [
    "## `QTable` manipulation and modification\n",
    "\n",
    "* Does not have the huge number of `.methods` of a `DataFrame`\n",
    "* Can do most 'obvious' stuff: slices, sorts, filtering, etc...\n",
    "* Documentation: [Astropy Table Modifications](https://het.as.utexas.edu/HET/Software/Astropy-1.0/table/modify_table.html)"
   ]
  },
  {
   "cell_type": "code",
   "execution_count": 35,
   "metadata": {
    "collapsed": false,
    "jupyter": {
     "outputs_hidden": false
    }
   },
   "outputs": [
    {
     "data": {
      "text/html": [
       "<i>QTable length=4</i>\n",
       "<table id=\"table139781325600144\" class=\"table-striped table-bordered table-condensed\">\n",
       "<thead><tr><th>Name</th><th>Semi_Major_AU</th><th>Eccentricity</th><th>Perihelion</th></tr></thead>\n",
       "<thead><tr><th></th><th>AU</th><th></th><th>AU</th></tr></thead>\n",
       "<thead><tr><th>str9</th><th>float64</th><th>float64</th><th>float64</th></tr></thead>\n",
       "<tr><td>1P/Halley</td><td>17.8341442925537</td><td>0.967142908462304</td><td>0.59</td></tr>\n",
       "<tr><td>2P/Encke</td><td>2.215141293583404</td><td>0.8483360282890077</td><td>0.34</td></tr>\n",
       "<tr><td>3D/Biela</td><td>3.53465808340135</td><td>0.751299</td><td>0.88</td></tr>\n",
       "<tr><td>4P/Faye</td><td>3.83815915788662</td><td>0.5696175496849397</td><td>1.65</td></tr>\n",
       "</table>"
      ],
      "text/plain": [
       "<QTable length=4>\n",
       "   Name     Semi_Major_AU      Eccentricity    Perihelion\n",
       "                  AU                               AU    \n",
       "   str9        float64           float64        float64  \n",
       "--------- ----------------- ------------------ ----------\n",
       "1P/Halley  17.8341442925537  0.967142908462304       0.59\n",
       " 2P/Encke 2.215141293583404 0.8483360282890077       0.34\n",
       " 3D/Biela  3.53465808340135           0.751299       0.88\n",
       "  4P/Faye  3.83815915788662 0.5696175496849397       1.65"
      ]
     },
     "execution_count": 35,
     "metadata": {},
     "output_type": "execute_result"
    }
   ],
   "source": [
    "comet_table"
   ]
  },
  {
   "cell_type": "code",
   "execution_count": 36,
   "metadata": {
    "collapsed": false,
    "jupyter": {
     "outputs_hidden": false
    }
   },
   "outputs": [
    {
     "data": {
      "text/html": [
       "<i>QTable length=2</i>\n",
       "<table id=\"table139781313619536\" class=\"table-striped table-bordered table-condensed\">\n",
       "<thead><tr><th>Name</th><th>Semi_Major_AU</th><th>Eccentricity</th><th>Perihelion</th></tr></thead>\n",
       "<thead><tr><th></th><th>AU</th><th></th><th>AU</th></tr></thead>\n",
       "<thead><tr><th>str9</th><th>float64</th><th>float64</th><th>float64</th></tr></thead>\n",
       "<tr><td>1P/Halley</td><td>17.8341442925537</td><td>0.967142908462304</td><td>0.59</td></tr>\n",
       "<tr><td>2P/Encke</td><td>2.215141293583404</td><td>0.8483360282890077</td><td>0.34</td></tr>\n",
       "</table>"
      ],
      "text/plain": [
       "<QTable length=2>\n",
       "   Name     Semi_Major_AU      Eccentricity    Perihelion\n",
       "                  AU                               AU    \n",
       "   str9        float64           float64        float64  \n",
       "--------- ----------------- ------------------ ----------\n",
       "1P/Halley  17.8341442925537  0.967142908462304       0.59\n",
       " 2P/Encke 2.215141293583404 0.8483360282890077       0.34"
      ]
     },
     "execution_count": 36,
     "metadata": {},
     "output_type": "execute_result"
    }
   ],
   "source": [
    "comet_table[0:2]"
   ]
  },
  {
   "cell_type": "code",
   "execution_count": 37,
   "metadata": {
    "collapsed": false,
    "jupyter": {
     "outputs_hidden": false
    }
   },
   "outputs": [
    {
     "data": {
      "text/html": [
       "<i>QTable length=2</i>\n",
       "<table id=\"table139781313614160\" class=\"table-striped table-bordered table-condensed\">\n",
       "<thead><tr><th>Name</th><th>Semi_Major_AU</th><th>Eccentricity</th><th>Perihelion</th></tr></thead>\n",
       "<thead><tr><th></th><th>AU</th><th></th><th>AU</th></tr></thead>\n",
       "<thead><tr><th>str9</th><th>float64</th><th>float64</th><th>float64</th></tr></thead>\n",
       "<tr><td>3D/Biela</td><td>3.53465808340135</td><td>0.751299</td><td>0.88</td></tr>\n",
       "<tr><td>4P/Faye</td><td>3.83815915788662</td><td>0.5696175496849397</td><td>1.65</td></tr>\n",
       "</table>"
      ],
      "text/plain": [
       "<QTable length=2>\n",
       "  Name    Semi_Major_AU      Eccentricity    Perihelion\n",
       "                AU                               AU    \n",
       "  str9       float64           float64        float64  \n",
       "-------- ---------------- ------------------ ----------\n",
       "3D/Biela 3.53465808340135           0.751299       0.88\n",
       " 4P/Faye 3.83815915788662 0.5696175496849397       1.65"
      ]
     },
     "execution_count": 37,
     "metadata": {},
     "output_type": "execute_result"
    }
   ],
   "source": [
    "comet_table[comet_table['Eccentricity'] < 0.8]"
   ]
  },
  {
   "cell_type": "code",
   "execution_count": 38,
   "metadata": {
    "collapsed": false,
    "jupyter": {
     "outputs_hidden": false
    }
   },
   "outputs": [],
   "source": [
    "comet_table.sort('Perihelion')"
   ]
  },
  {
   "cell_type": "code",
   "execution_count": 39,
   "metadata": {
    "collapsed": false,
    "jupyter": {
     "outputs_hidden": false
    }
   },
   "outputs": [
    {
     "data": {
      "text/html": [
       "<i>QTable length=4</i>\n",
       "<table id=\"table139781325600144\" class=\"table-striped table-bordered table-condensed\">\n",
       "<thead><tr><th>Name</th><th>Semi_Major_AU</th><th>Eccentricity</th><th>Perihelion</th></tr></thead>\n",
       "<thead><tr><th></th><th>AU</th><th></th><th>AU</th></tr></thead>\n",
       "<thead><tr><th>str9</th><th>float64</th><th>float64</th><th>float64</th></tr></thead>\n",
       "<tr><td>2P/Encke</td><td>2.215141293583404</td><td>0.8483360282890077</td><td>0.34</td></tr>\n",
       "<tr><td>1P/Halley</td><td>17.8341442925537</td><td>0.967142908462304</td><td>0.59</td></tr>\n",
       "<tr><td>3D/Biela</td><td>3.53465808340135</td><td>0.751299</td><td>0.88</td></tr>\n",
       "<tr><td>4P/Faye</td><td>3.83815915788662</td><td>0.5696175496849397</td><td>1.65</td></tr>\n",
       "</table>"
      ],
      "text/plain": [
       "<QTable length=4>\n",
       "   Name     Semi_Major_AU      Eccentricity    Perihelion\n",
       "                  AU                               AU    \n",
       "   str9        float64           float64        float64  \n",
       "--------- ----------------- ------------------ ----------\n",
       " 2P/Encke 2.215141293583404 0.8483360282890077       0.34\n",
       "1P/Halley  17.8341442925537  0.967142908462304       0.59\n",
       " 3D/Biela  3.53465808340135           0.751299       0.88\n",
       "  4P/Faye  3.83815915788662 0.5696175496849397       1.65"
      ]
     },
     "execution_count": 39,
     "metadata": {},
     "output_type": "execute_result"
    }
   ],
   "source": [
    "comet_table"
   ]
  },
  {
   "cell_type": "code",
   "execution_count": 40,
   "metadata": {
    "collapsed": false,
    "jupyter": {
     "outputs_hidden": false
    }
   },
   "outputs": [
    {
     "data": {
      "text/html": [
       "<i>QTable length=2</i>\n",
       "<table id=\"table139781325545232\" class=\"table-striped table-bordered table-condensed\">\n",
       "<thead><tr><th>Name</th><th>Semi_Major_AU</th><th>Eccentricity</th><th>Perihelion</th></tr></thead>\n",
       "<thead><tr><th></th><th>AU</th><th></th><th>AU</th></tr></thead>\n",
       "<thead><tr><th>str9</th><th>float64</th><th>float64</th><th>float64</th></tr></thead>\n",
       "<tr><td>2P/Encke</td><td>2.215141293583404</td><td>0.8483360282890077</td><td>0.34</td></tr>\n",
       "<tr><td>1P/Halley</td><td>17.8341442925537</td><td>0.967142908462304</td><td>0.59</td></tr>\n",
       "</table>"
      ],
      "text/plain": [
       "<QTable length=2>\n",
       "   Name     Semi_Major_AU      Eccentricity    Perihelion\n",
       "                  AU                               AU    \n",
       "   str9        float64           float64        float64  \n",
       "--------- ----------------- ------------------ ----------\n",
       " 2P/Encke 2.215141293583404 0.8483360282890077       0.34\n",
       "1P/Halley  17.8341442925537  0.967142908462304       0.59"
      ]
     },
     "execution_count": 40,
     "metadata": {},
     "output_type": "execute_result"
    }
   ],
   "source": [
    "comet_table[0:2]"
   ]
  },
  {
   "cell_type": "code",
   "execution_count": 41,
   "metadata": {
    "collapsed": false,
    "jupyter": {
     "outputs_hidden": false
    }
   },
   "outputs": [
    {
     "data": {
      "text/html": [
       "<i>QTable length=4</i>\n",
       "<table id=\"table139781325600144\" class=\"table-striped table-bordered table-condensed\">\n",
       "<thead><tr><th>Name</th><th>Semi_Major_AU</th><th>Eccentricity</th><th>Perihelion</th></tr></thead>\n",
       "<thead><tr><th></th><th>AU</th><th></th><th>AU</th></tr></thead>\n",
       "<thead><tr><th>str9</th><th>float64</th><th>float64</th><th>float64</th></tr></thead>\n",
       "<tr><td>4P/Faye</td><td>3.83815915788662</td><td>0.5696175496849397</td><td>1.65</td></tr>\n",
       "<tr><td>3D/Biela</td><td>3.53465808340135</td><td>0.751299</td><td>0.88</td></tr>\n",
       "<tr><td>1P/Halley</td><td>17.8341442925537</td><td>0.967142908462304</td><td>0.59</td></tr>\n",
       "<tr><td>2P/Encke</td><td>2.215141293583404</td><td>0.8483360282890077</td><td>0.34</td></tr>\n",
       "</table>"
      ],
      "text/plain": [
       "<QTable length=4>\n",
       "   Name     Semi_Major_AU      Eccentricity    Perihelion\n",
       "                  AU                               AU    \n",
       "   str9        float64           float64        float64  \n",
       "--------- ----------------- ------------------ ----------\n",
       "  4P/Faye  3.83815915788662 0.5696175496849397       1.65\n",
       " 3D/Biela  3.53465808340135           0.751299       0.88\n",
       "1P/Halley  17.8341442925537  0.967142908462304       0.59\n",
       " 2P/Encke 2.215141293583404 0.8483360282890077       0.34"
      ]
     },
     "execution_count": 41,
     "metadata": {},
     "output_type": "execute_result"
    }
   ],
   "source": [
    "comet_table.sort('Perihelion', reverse=True)\n",
    "\n",
    "comet_table"
   ]
  },
  {
   "cell_type": "markdown",
   "metadata": {},
   "source": [
    "### Can save `Qtables` with all the units info intact (`.ecsv`)."
   ]
  },
  {
   "cell_type": "code",
   "execution_count": 42,
   "metadata": {
    "collapsed": false,
    "jupyter": {
     "outputs_hidden": false
    }
   },
   "outputs": [],
   "source": [
    "comet_table.write('./Data/Comet_QTable.ecsv', format='ascii.ecsv')"
   ]
  },
  {
   "cell_type": "code",
   "execution_count": 43,
   "metadata": {
    "collapsed": false,
    "jupyter": {
     "outputs_hidden": false
    }
   },
   "outputs": [],
   "source": [
    "my_new_table = QTable.read('./Data/Comet_QTable.ecsv', format='ascii.ecsv')"
   ]
  },
  {
   "cell_type": "code",
   "execution_count": 44,
   "metadata": {
    "collapsed": false,
    "jupyter": {
     "outputs_hidden": false
    }
   },
   "outputs": [
    {
     "data": {
      "text/html": [
       "<i>QTable length=4</i>\n",
       "<table id=\"table139781313429968\" class=\"table-striped table-bordered table-condensed\">\n",
       "<thead><tr><th>Name</th><th>Semi_Major_AU</th><th>Eccentricity</th><th>Perihelion</th></tr></thead>\n",
       "<thead><tr><th></th><th>AU</th><th></th><th>AU</th></tr></thead>\n",
       "<thead><tr><th>str9</th><th>float64</th><th>float64</th><th>float64</th></tr></thead>\n",
       "<tr><td>4P/Faye</td><td>3.83815915788662</td><td>0.5696175496849397</td><td>1.65</td></tr>\n",
       "<tr><td>3D/Biela</td><td>3.53465808340135</td><td>0.751299</td><td>0.88</td></tr>\n",
       "<tr><td>1P/Halley</td><td>17.8341442925537</td><td>0.967142908462304</td><td>0.59</td></tr>\n",
       "<tr><td>2P/Encke</td><td>2.215141293583404</td><td>0.8483360282890077</td><td>0.34</td></tr>\n",
       "</table>"
      ],
      "text/plain": [
       "<QTable length=4>\n",
       "   Name     Semi_Major_AU      Eccentricity    Perihelion\n",
       "                  AU                               AU    \n",
       "   str9        float64           float64        float64  \n",
       "--------- ----------------- ------------------ ----------\n",
       "  4P/Faye  3.83815915788662 0.5696175496849397       1.65\n",
       " 3D/Biela  3.53465808340135           0.751299       0.88\n",
       "1P/Halley  17.8341442925537  0.967142908462304       0.59\n",
       " 2P/Encke 2.215141293583404 0.8483360282890077       0.34"
      ]
     },
     "execution_count": 44,
     "metadata": {},
     "output_type": "execute_result"
    }
   ],
   "source": [
    "my_new_table"
   ]
  },
  {
   "cell_type": "markdown",
   "metadata": {},
   "source": [
    "### Can convert `QTable` to pandas `DataFrame` - Loose all units info :("
   ]
  },
  {
   "cell_type": "code",
   "execution_count": 45,
   "metadata": {
    "collapsed": false,
    "jupyter": {
     "outputs_hidden": false
    }
   },
   "outputs": [],
   "source": [
    "comet_table_pandas = Table(comet_table).to_pandas()"
   ]
  },
  {
   "cell_type": "code",
   "execution_count": 46,
   "metadata": {
    "collapsed": false,
    "jupyter": {
     "outputs_hidden": false
    }
   },
   "outputs": [
    {
     "data": {
      "text/html": [
       "<div>\n",
       "<style scoped>\n",
       "    .dataframe tbody tr th:only-of-type {\n",
       "        vertical-align: middle;\n",
       "    }\n",
       "\n",
       "    .dataframe tbody tr th {\n",
       "        vertical-align: top;\n",
       "    }\n",
       "\n",
       "    .dataframe thead th {\n",
       "        text-align: right;\n",
       "    }\n",
       "</style>\n",
       "<table border=\"1\" class=\"dataframe\">\n",
       "  <thead>\n",
       "    <tr style=\"text-align: right;\">\n",
       "      <th></th>\n",
       "      <th>Name</th>\n",
       "      <th>Semi_Major_AU</th>\n",
       "      <th>Eccentricity</th>\n",
       "      <th>Perihelion</th>\n",
       "    </tr>\n",
       "  </thead>\n",
       "  <tbody>\n",
       "    <tr>\n",
       "      <th>0</th>\n",
       "      <td>4P/Faye</td>\n",
       "      <td>3.838159</td>\n",
       "      <td>0.569618</td>\n",
       "      <td>1.651876</td>\n",
       "    </tr>\n",
       "    <tr>\n",
       "      <th>1</th>\n",
       "      <td>3D/Biela</td>\n",
       "      <td>3.534658</td>\n",
       "      <td>0.751299</td>\n",
       "      <td>0.879073</td>\n",
       "    </tr>\n",
       "    <tr>\n",
       "      <th>2</th>\n",
       "      <td>1P/Halley</td>\n",
       "      <td>17.834144</td>\n",
       "      <td>0.967143</td>\n",
       "      <td>0.585978</td>\n",
       "    </tr>\n",
       "    <tr>\n",
       "      <th>3</th>\n",
       "      <td>2P/Encke</td>\n",
       "      <td>2.215141</td>\n",
       "      <td>0.848336</td>\n",
       "      <td>0.335957</td>\n",
       "    </tr>\n",
       "  </tbody>\n",
       "</table>\n",
       "</div>"
      ],
      "text/plain": [
       "        Name  Semi_Major_AU  Eccentricity  Perihelion\n",
       "0    4P/Faye       3.838159      0.569618    1.651876\n",
       "1   3D/Biela       3.534658      0.751299    0.879073\n",
       "2  1P/Halley      17.834144      0.967143    0.585978\n",
       "3   2P/Encke       2.215141      0.848336    0.335957"
      ]
     },
     "execution_count": 46,
     "metadata": {},
     "output_type": "execute_result"
    }
   ],
   "source": [
    "comet_table_pandas"
   ]
  },
  {
   "cell_type": "code",
   "execution_count": null,
   "metadata": {
    "collapsed": false,
    "jupyter": {
     "outputs_hidden": false
    }
   },
   "outputs": [],
   "source": []
  }
 ],
 "metadata": {
  "kernelspec": {
   "display_name": "Python 3",
   "language": "python",
   "name": "python3"
  },
  "language_info": {
   "codemirror_mode": {
    "name": "ipython",
    "version": 3
   },
   "file_extension": ".py",
   "mimetype": "text/x-python",
   "name": "python",
   "nbconvert_exporter": "python",
   "pygments_lexer": "ipython3",
   "version": "3.7.5"
  }
 },
 "nbformat": 4,
 "nbformat_minor": 4
}
